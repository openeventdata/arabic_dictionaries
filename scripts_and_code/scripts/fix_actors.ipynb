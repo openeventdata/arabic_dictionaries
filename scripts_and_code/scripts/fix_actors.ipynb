{
 "cells": [
  {
   "cell_type": "code",
   "execution_count": 1,
   "metadata": {},
   "outputs": [],
   "source": [
    "import datetime\n",
    "from dateutil import parser"
   ]
  },
  {
   "cell_type": "code",
   "execution_count": 19,
   "metadata": {},
   "outputs": [],
   "source": [
    "# removing duplicates\n",
    "\n",
    "actors = {}\n",
    "current_actor = ''\n",
    "with open('actor_dict_ar_v4.txt' , 'r') as input_file :\n",
    "    for line in input_file : \n",
    "        line = line.replace('> ', '>')\n",
    "        line = line.replace('< ', '<')\n",
    "        if line.strip() == '': \n",
    "            continue\n",
    "        if line.strip()[0] == '[':        \n",
    "            if current_actor not in actors.keys() : \n",
    "                actors[current_actor]  = set() \n",
    "            actors[current_actor].add(line.strip())\n",
    "\n",
    "\n",
    "        else : \n",
    "            split = line.strip().split(' ')\n",
    "            split = [i for i in split if i != '']\n",
    "            if len(split) == 1 : \n",
    "                current_actor = split[0].strip().replace('_', ' ').strip()\n",
    "\n",
    "            elif len(split) == 2 : \n",
    "                act = split[0].replace('_', ' ').strip()\n",
    "                if act not in actors.keys() : \n",
    "                    actors[act] = set()\n",
    "                actors[act].add(split[1])\n"
   ]
  },
  {
   "cell_type": "code",
   "execution_count": 1,
   "metadata": {},
   "outputs": [],
   "source": [
    "# note : alot more manual work went here         "
   ]
  },
  {
   "cell_type": "code",
   "execution_count": 16,
   "metadata": {},
   "outputs": [],
   "source": [
    "with open('actors_new_no_duplicates2' , 'w') as output: \n",
    "    for actor in actors.keys() : \n",
    "        if len(actors[actor]) == 1 : \n",
    "            code = list(actors[actor])[0].strip() \n",
    "            if len(code.split()) == 1  :  \n",
    "                actor = actor if len(actor.split(' ')) == 1 else actor.strip().replace(' ', '_')+'_' \n",
    "                output.write('{}  {}\\n'.format(actor,code ))\n",
    "                \n",
    "            else :\n",
    "                actor = actor if len(actor.split(' ')) == 1 else actor.strip().replace(' ', '_')+'_' \n",
    "                output.write('{}\\n'.format(actor) )\n",
    "                output.write('\\t{}\\n'.format(code))\n",
    "            \n",
    "        else : \n",
    "            act = actor if len(actor.split(' ')) == 1 else actor.strip().replace(' ', '_')+'_' \n",
    "            output.write('{}\\n'.format(act) )\n",
    "            for code in actors[actor] :\n",
    "                output.write('\\t{}\\n'.format(code))"
   ]
  },
  {
   "cell_type": "code",
   "execution_count": 14,
   "metadata": {},
   "outputs": [
    {
     "data": {
      "text/plain": [
       "1"
      ]
     },
     "execution_count": 14,
     "metadata": {},
     "output_type": "execute_result"
    }
   ],
   "source": [
    "# actors\n",
    "x = 'غزة'\n",
    "len(x.split(' '))"
   ]
  },
  {
   "cell_type": "code",
   "execution_count": 6,
   "metadata": {},
   "outputs": [
    {
     "data": {
      "text/plain": [
       "{'[PSE]'}"
      ]
     },
     "execution_count": 6,
     "metadata": {},
     "output_type": "execute_result"
    }
   ],
   "source": [
    "actors['غزة']"
   ]
  },
  {
   "cell_type": "code",
   "execution_count": 17,
   "metadata": {},
   "outputs": [
    {
     "data": {
      "text/plain": [
       "4137"
      ]
     },
     "execution_count": 17,
     "metadata": {},
     "output_type": "execute_result"
    }
   ],
   "source": [
    "len(actors.keys())"
   ]
  },
  {
   "cell_type": "code",
   "execution_count": 175,
   "metadata": {},
   "outputs": [
    {
     "data": {
      "text/plain": [
       "1"
      ]
     },
     "execution_count": 175,
     "metadata": {},
     "output_type": "execute_result"
    }
   ],
   "source": [
    "len(actors['جيش'])"
   ]
  },
  {
   "cell_type": "code",
   "execution_count": 97,
   "metadata": {},
   "outputs": [
    {
     "data": {
      "text/plain": [
       "'ابو_بلال_'"
      ]
     },
     "execution_count": 97,
     "metadata": {},
     "output_type": "execute_result"
    }
   ],
   "source": [
    "x "
   ]
  },
  {
   "cell_type": "code",
   "execution_count": 98,
   "metadata": {},
   "outputs": [
    {
     "data": {
      "text/plain": [
       "False"
      ]
     },
     "execution_count": 98,
     "metadata": {},
     "output_type": "execute_result"
    }
   ],
   "source": [
    "x.strip()[0] == '['"
   ]
  },
  {
   "cell_type": "code",
   "execution_count": 202,
   "metadata": {},
   "outputs": [
    {
     "data": {
      "text/plain": [
       "'>3'"
      ]
     },
     "execution_count": 202,
     "metadata": {},
     "output_type": "execute_result"
    }
   ],
   "source": [
    "x ='>3'\n",
    "x.replace('> ' , '1')"
   ]
  },
  {
   "cell_type": "code",
   "execution_count": 3,
   "metadata": {},
   "outputs": [
    {
     "ename": "KeyError",
     "evalue": "0",
     "output_type": "error",
     "traceback": [
      "\u001b[0;31m---------------------------------------------------------------------------\u001b[0m",
      "\u001b[0;31mKeyError\u001b[0m                                  Traceback (most recent call last)",
      "\u001b[0;32m<ipython-input-3-ded42d67cbbf>\u001b[0m in \u001b[0;36m<module>\u001b[0;34m()\u001b[0m\n\u001b[0;32m----> 1\u001b[0;31m \u001b[0mactors\u001b[0m\u001b[0;34m[\u001b[0m\u001b[0;36m0\u001b[0m\u001b[0;34m]\u001b[0m\u001b[0;34m\u001b[0m\u001b[0m\n\u001b[0m",
      "\u001b[0;31mKeyError\u001b[0m: 0"
     ]
    }
   ],
   "source": [
    "actors[0]"
   ]
  },
  {
   "cell_type": "code",
   "execution_count": null,
   "metadata": {},
   "outputs": [],
   "source": []
  }
 ],
 "metadata": {
  "kernelspec": {
   "display_name": "Python 3",
   "language": "python",
   "name": "python3"
  },
  "language_info": {
   "codemirror_mode": {
    "name": "ipython",
    "version": 3
   },
   "file_extension": ".py",
   "mimetype": "text/x-python",
   "name": "python",
   "nbconvert_exporter": "python",
   "pygments_lexer": "ipython3",
   "version": "3.6.4"
  }
 },
 "nbformat": 4,
 "nbformat_minor": 2
}
