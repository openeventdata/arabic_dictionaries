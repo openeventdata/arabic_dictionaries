{
 "cells": [
  {
   "cell_type": "code",
   "execution_count": 1,
   "metadata": {},
   "outputs": [],
   "source": [
    "import requests\n",
    "import pyarabic.araby as araby # for processing arabic \n",
    "import re"
   ]
  },
  {
   "cell_type": "code",
   "execution_count": 2,
   "metadata": {},
   "outputs": [
    {
     "data": {
      "text/plain": [
       "['غزة  [PSE]\\n',\n",
       " 'الجيش  [MIL]\\n',\n",
       " 'أبو بلال\\n',\n",
       " '\\t[PSECVLELI 19840502-18000101]\\n',\n",
       " 'جلال حسنين\\n',\n",
       " '\\t[LBNCVLREF 19840502-18000101]\\n',\n",
       " 'وزارة الدفاع الأميركية  [USAGOV]\\n',\n",
       " 'شيخة لبنى القاسمي\\n',\n",
       " '\\t[AREGOV 20001106-18000101]\\n',\n",
       " 'الاتحاد الأفريقي  [IGOGOV]\\n']"
      ]
     },
     "execution_count": 2,
     "metadata": {},
     "output_type": "execute_result"
    }
   ],
   "source": [
    "lines = []\n",
    "with open('actor_dict_ar_v2.txt') as file:\n",
    "    for i in file : \n",
    "        lines.append(i)\n",
    "    \n",
    "lines[0:10]"
   ]
  },
  {
   "cell_type": "code",
   "execution_count": 3,
   "metadata": {},
   "outputs": [],
   "source": [
    "#udpipe stuff : i love reproducable code  !  \n",
    "def udpipe(string) :\n",
    "    # Prepping String \n",
    "    words  = re.findall(u'[\\u0600-\\u06FF]+', string) #getting arabic characters \n",
    "    data = ' '.join(words)\n",
    "    \n",
    "    pipe_base_url = 'http://lindat.mff.cuni.cz/services/udpipe/api/process?tokenizer&tagger' \n",
    "    attributes = {} \n",
    "    attributes['model'] = 'arabic-ud-2.0-170801'\n",
    "    attributes['data'] = data\n",
    "\n",
    "    data = requests.get(pipe_base_url , attributes)\n",
    "    result = data.json()['result'].split('\\n')\n",
    "    udpipe_results = [re.findall(u'[\\u0600-\\u06FF]+', i) for i in result] # cleaning \n",
    "    udpipe_results = [i for i in udpipe_results if i !=[]]\n",
    "    \n",
    "    return udpipe_results\n",
    "\n",
    "def udpipe_reconstruct(original_text) : \n",
    "    udpipe_results = udpipe(original_text)\n",
    "    for i in range(1, len(udpipe_results)):\n",
    "        if len(udpipe_results[i]) == 1 : # composite verbs get the next two words\n",
    "            original_text =original_text.replace(udpipe_results[i][0] , '{} {}'.format(udpipe_results[i+1][1],udpipe_results[i+2][1]))\n",
    "        else :\n",
    "            original_text =original_text.replace(udpipe_results[i][0] , udpipe_results[i][1])\n",
    "    original_text = araby.strip_tashkeel(original_text)\n",
    "    return original_text\n",
    "\n",
    "\n",
    "def master_reconstruct_input(text_input , input_type): \n",
    "    # type 0: none-rule just do just do udpipe_reconstruction\n",
    "    # type 1 : fix the rule + do udpipe_reconstruction - no need for this here \n",
    "    if input_type == 0:\n",
    "        return udpipe_reconstruct(text_input)\n",
    "\n",
    "    "
   ]
  },
  {
   "cell_type": "code",
   "execution_count": 7,
   "metadata": {},
   "outputs": [
    {
     "name": "stdout",
     "output_type": "stream",
     "text": [
      "#Done!!\n"
     ]
    }
   ],
   "source": [
    "lines2 = []\n",
    "for i in lines:\n",
    "    lines2.append(master_reconstruct_input(i,0))\n",
    "print('#Done!!')"
   ]
  },
  {
   "cell_type": "code",
   "execution_count": 8,
   "metadata": {},
   "outputs": [],
   "source": [
    "with open('actor_dic_ar_v3.txt', 'w') as output : \n",
    "    for i in lines2 : \n",
    "        output.write(i)\n",
    "    "
   ]
  },
  {
   "cell_type": "markdown",
   "metadata": {},
   "source": [
    "## fix formats (Adding underscore instead of spaces) "
   ]
  },
  {
   "cell_type": "code",
   "execution_count": 27,
   "metadata": {},
   "outputs": [
    {
     "data": {
      "text/plain": [
       "['غزة  [PSE]\\n',\n",
       " 'جيش  [MIL]\\n',\n",
       " 'ابو بلال\\n',\n",
       " '\\t[PSECVLELI 19840502-18000101]\\n',\n",
       " 'جلال حسنين\\n',\n",
       " '\\t[LBNCVLREF 19840502-18000101]\\n',\n",
       " 'وزارة دفاع أميركي  [USAGOV]\\n',\n",
       " 'شيخة لبنى القاسمي\\n',\n",
       " '\\t[AREGOV 20001106-18000101]\\n',\n",
       " 'اتحاد أفريقي  [IGOGOV]\\n']"
      ]
     },
     "execution_count": 27,
     "metadata": {},
     "output_type": "execute_result"
    }
   ],
   "source": [
    "import re\n",
    "actors = [] \n",
    "with open('actor_dic_ar_v3.txt') as finput : \n",
    "        for i in finput  : \n",
    "            actors.append(i)\n",
    "actors[:10]"
   ]
  },
  {
   "cell_type": "code",
   "execution_count": 28,
   "metadata": {},
   "outputs": [
    {
     "data": {
      "text/plain": [
       "'ابو_بلال_'"
      ]
     },
     "execution_count": 28,
     "metadata": {},
     "output_type": "execute_result"
    }
   ],
   "source": [
    "x = '_'.join(re.findall(r'[\\u0600-\\u06FF]+', actors[2])) +'_'\n",
    "x"
   ]
  },
  {
   "cell_type": "code",
   "execution_count": 29,
   "metadata": {},
   "outputs": [
    {
     "data": {
      "text/plain": [
       "['غزة  [PSE]\\n',\n",
       " 'جيش  [MIL]\\n',\n",
       " 'ابو_بلال_\\n',\n",
       " '\\t[PSECVLELI 19840502-18000101]\\n',\n",
       " 'جلال_حسنين_\\n',\n",
       " '\\t[LBNCVLREF 19840502-18000101]\\n',\n",
       " 'وزارة_دفاع_أميركي_  [USAGOV]\\n',\n",
       " 'شيخة_لبنى_القاسمي_\\n',\n",
       " '\\t[AREGOV 20001106-18000101]\\n',\n",
       " 'اتحاد_أفريقي_  [IGOGOV]\\n']"
      ]
     },
     "execution_count": 29,
     "metadata": {},
     "output_type": "execute_result"
    }
   ],
   "source": [
    "for i in range(len(actors)) : \n",
    "    ar_exp = re.findall(r'[\\u0600-\\u06FF]+', actors[i])\n",
    "    if not ar_exp or len(ar_exp)==1 :\n",
    "        continue\n",
    "    new_ar_exp = '_'.join(ar_exp) + '_'\n",
    "#     print('ar_exp {}'.format(ar_exp))\n",
    "#     print('new_ar_exp {}'.format(new_ar_exp))\n",
    "    \n",
    "#     print('before {} '.format(i))\n",
    "    actors[i] = actors[i].replace(' '.join(ar_exp) , new_ar_exp)\n",
    "#     print('after {} '.format(i))\n",
    "    \n",
    "    \n",
    "    \n",
    "actors[:10]"
   ]
  },
  {
   "cell_type": "code",
   "execution_count": 30,
   "metadata": {},
   "outputs": [],
   "source": [
    "with open('actor_dict_ar_v4.txt', 'w') as output : \n",
    "    for i in actors:\n",
    "        output.write(i)"
   ]
  },
  {
   "cell_type": "code",
   "execution_count": null,
   "metadata": {},
   "outputs": [],
   "source": []
  }
 ],
 "metadata": {
  "kernelspec": {
   "display_name": "Python 3",
   "language": "python",
   "name": "python3"
  },
  "language_info": {
   "codemirror_mode": {
    "name": "ipython",
    "version": 3
   },
   "file_extension": ".py",
   "mimetype": "text/x-python",
   "name": "python",
   "nbconvert_exporter": "python",
   "pygments_lexer": "ipython3",
   "version": "3.6.4"
  }
 },
 "nbformat": 4,
 "nbformat_minor": 2
}
