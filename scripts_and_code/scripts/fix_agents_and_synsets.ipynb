{
 "cells": [
  {
   "cell_type": "code",
   "execution_count": 6,
   "metadata": {},
   "outputs": [],
   "source": [
    "import requests\n",
    "import pyarabic.araby as araby # for processing arabic \n",
    "import re"
   ]
  },
  {
   "cell_type": "code",
   "execution_count": 7,
   "metadata": {},
   "outputs": [],
   "source": [
    "#udpipe stuff : i love reproducable code  !  \n",
    "def udpipe(string) :\n",
    "    # Prepping String \n",
    "    words  = re.findall(u'[\\u0600-\\u06FF]+', string) #getting arabic characters \n",
    "    data = ' '.join(words)\n",
    "    \n",
    "    pipe_base_url = 'http://lindat.mff.cuni.cz/services/udpipe/api/process?tokenizer&tagger' \n",
    "    attributes = {} \n",
    "    attributes['model'] = 'arabic-ud-2.0-170801'\n",
    "    attributes['data'] = data\n",
    "\n",
    "    data = requests.get(pipe_base_url , attributes)\n",
    "    result = data.json()['result'].split('\\n')\n",
    "    udpipe_results = [re.findall(u'[\\u0600-\\u06FF]+', i) for i in result] # cleaning \n",
    "    udpipe_results = [i for i in udpipe_results if i !=[]]\n",
    "    \n",
    "    return udpipe_results\n",
    "\n",
    "def udpipe_reconstruct(original_text) : \n",
    "    udpipe_results = udpipe(original_text)\n",
    "    for i in range(1, len(udpipe_results)):\n",
    "        if len(udpipe_results[i]) == 1 : # composite verbs get the next two words\n",
    "            original_text =original_text.replace(udpipe_results[i][0] , '{} {}'.format(udpipe_results[i+1][1],udpipe_results[i+2][1]))\n",
    "        else :\n",
    "            original_text =original_text.replace(udpipe_results[i][0] , udpipe_results[i][1])\n",
    "    original_text = araby.strip_tashkeel(original_text)\n",
    "    return original_text\n",
    "\n",
    "\n",
    "def master_reconstruct_input(text_input , input_type): \n",
    "    # type 0: none-rule just do just do udpipe_reconstruction\n",
    "    # type 1 : fix the rule + do udpipe_reconstruction - no need for this here \n",
    "    if input_type == 0:\n",
    "        return udpipe_reconstruct(text_input)"
   ]
  },
  {
   "cell_type": "code",
   "execution_count": 8,
   "metadata": {},
   "outputs": [],
   "source": [
    "with open('agents.all.ar.txt', 'r') as agent_file : \n",
    "    agents = agent_file.read()\n",
    "\n",
    "agents_file = agents.split('\\n')\n",
    "agents = [i for i in agents_file if i != '' and i[0] !='#']"
   ]
  },
  {
   "cell_type": "code",
   "execution_count": null,
   "metadata": {},
   "outputs": [],
   "source": []
  },
  {
   "cell_type": "code",
   "execution_count": 2,
   "metadata": {},
   "outputs": [
    {
     "data": {
      "text/plain": [
       "['ARMED_SEPARATIST [~REB]انفصالي مسلحي',\n",
       " 'ARMED_SEPARATIST_MOVEMENT [~REB]حركة انفصالية مسلحة',\n",
       " 'ARMY_FOR_THE_LIBERATION_  [~REB]جيش للتحرير',\n",
       " 'ETHNIC_SEPARATISTS [~REB] # ?انفصاليين عرقيين',\n",
       " 'FRONT_FOR_THE_LIBERATION_  [~REB]جبهة التحرير',\n",
       " 'LIBERATION_ARMY_  [~REB]جيش التحرير',\n",
       " 'LIBERATION_FORCES_  [~REB]قوى التحرير',\n",
       " 'LIBERATION_FRONT_  [~REB]جبهة التحرير',\n",
       " 'LIBERATION_MOVEMENT  [~OPP]حركة تحرير',\n",
       " 'POPULAR_MOVEMENT_FOR_THE_LIBERATION_  [~REB]حركة جماهيرية من أجل التحرير',\n",
       " 'PRO_INDEPENDENCE_ACTIVIST [~OPP] # ? REB SEEMED WRONG ناشط مؤيد للاستقلال',\n",
       " 'REBEL_SEPARATIST [~REB] انفصاليين متمردين',\n",
       " 'SEPARATIST [~REB]انفصالي',\n",
       " 'SEPARATIST_GROUP [~REB]مجموعة انفصالية',\n",
       " 'SEPARATIST_GUERRILLA [~REB]حرب عصابات انفصالية',\n",
       " 'SEPARATIST_LEADER [~REB]قائد انفصالي',\n",
       " 'SEPARATIST_MILITANT [~REB]مقاتل انفصالي',\n",
       " 'SEPARATIST_MOVEMENT [~REB]حركة انفصالية',\n",
       " 'SEPARATIST_REBEL [~REB]متمردين انفصاليين',\n",
       " 'INTERNATIONAL_TERRORIST [~IMG]إرهابي دولي']"
      ]
     },
     "execution_count": 2,
     "metadata": {},
     "output_type": "execute_result"
    }
   ],
   "source": [
    "agents[:20]"
   ]
  },
  {
   "cell_type": "code",
   "execution_count": 9,
   "metadata": {},
   "outputs": [],
   "source": [
    "arabic_only_agents = [x.split('[') for x in agents]\n",
    "arabic_only_agents=  [i[1] if len(i) > 1 else i[0] for i in arabic_only_agents ]\n",
    "arabic_only_agents = ['[' + i for i in arabic_only_agents]\n",
    "# arabic_only_agents"
   ]
  },
  {
   "cell_type": "code",
   "execution_count": 10,
   "metadata": {},
   "outputs": [],
   "source": [
    "#udpipe stuff tho\n",
    "arabic_only_agents_udpipe = [] \n",
    "for i in arabic_only_agents : \n",
    "    arabic_only_agents_udpipe.append(master_reconstruct_input(i,0))"
   ]
  },
  {
   "cell_type": "code",
   "execution_count": 11,
   "metadata": {},
   "outputs": [],
   "source": [
    "reconstructed_agents = []\n",
    "for i in arabic_only_agents_udpipe:\n",
    "    agent = '_'.join(re.findall(r'[\\u0600-\\u06FF]+', i))\n",
    "    code =i.split(']')[0] + ']'\n",
    "    result = '{} {}'.format(agent,code)\n",
    "    reconstructed_agents.append(result)\n",
    "#     print(result)"
   ]
  },
  {
   "cell_type": "code",
   "execution_count": 12,
   "metadata": {},
   "outputs": [],
   "source": [
    "reconstructed_agents\n",
    "with open('agents.all.ar_v3.txt' ,'w') as output_file: \n",
    "    output_file.write('\\n'.join(reconstructed_agents))"
   ]
  },
  {
   "cell_type": "markdown",
   "metadata": {},
   "source": [
    "## Synsets "
   ]
  },
  {
   "cell_type": "code",
   "execution_count": 17,
   "metadata": {},
   "outputs": [
    {
     "data": {
      "text/plain": [
       "['&CURRENCY\\n',\n",
       " '\\n',\n",
       " '+درهم_مغربي_\\n',\n",
       " '+فرنك_كونغولي_\\n',\n",
       " '+ناكفا_\\n',\n",
       " '+فرنك_سويسري_\\n',\n",
       " '+نيرة_نيجيرية_\\n',\n",
       " '+تالا_\\n',\n",
       " '+روبية_نيبالية_\\n',\n",
       " '+يورو_\\n']"
      ]
     },
     "execution_count": 17,
     "metadata": {},
     "output_type": "execute_result"
    }
   ],
   "source": [
    "lines = []\n",
    "with open('synsets.ar.txt' , 'r') as finput : \n",
    "    for i in finput  :\n",
    "        lines.append(i)\n",
    "lines[:10]"
   ]
  },
  {
   "cell_type": "code",
   "execution_count": 18,
   "metadata": {},
   "outputs": [
    {
     "data": {
      "text/plain": [
       "['&CURRENCY\\n',\n",
       " '\\n',\n",
       " '+در هو_مغربي_\\n',\n",
       " '+فرنك_كونغولي_\\n',\n",
       " '+ناكفا_\\n',\n",
       " '+فرنك_سويسري_\\n',\n",
       " '+نيرة_نيجيرية_\\n',\n",
       " '+تالا_\\n',\n",
       " '+روبية_نيبالية_\\n',\n",
       " '+يورو_\\n']"
      ]
     },
     "execution_count": 18,
     "metadata": {},
     "output_type": "execute_result"
    }
   ],
   "source": [
    "lines2 = [] \n",
    "for i in lines : \n",
    "    if i[0] == '&':\n",
    "        lines2.append(i)\n",
    "    else :\n",
    "        lines2.append(master_reconstruct_input(i,0))\n",
    "\n",
    "lines2[:10]"
   ]
  },
  {
   "cell_type": "code",
   "execution_count": 19,
   "metadata": {},
   "outputs": [],
   "source": [
    "with open('synsets.ar.v2.txt', 'w') as output :\n",
    "    for i in lines2: \n",
    "        output.write(i)\n"
   ]
  },
  {
   "cell_type": "code",
   "execution_count": null,
   "metadata": {},
   "outputs": [],
   "source": []
  }
 ],
 "metadata": {
  "kernelspec": {
   "display_name": "Python 3",
   "language": "python",
   "name": "python3"
  },
  "language_info": {
   "codemirror_mode": {
    "name": "ipython",
    "version": 3
   },
   "file_extension": ".py",
   "mimetype": "text/x-python",
   "name": "python",
   "nbconvert_exporter": "python",
   "pygments_lexer": "ipython3",
   "version": "3.6.4"
  }
 },
 "nbformat": 4,
 "nbformat_minor": 2
}
