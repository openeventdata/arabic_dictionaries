{
 "cells": [
  {
   "cell_type": "code",
   "execution_count": 3,
   "metadata": {},
   "outputs": [],
   "source": [
    "import requests\n",
    "import pyarabic.araby as araby # for processing arabic \n",
    "import re"
   ]
  },
  {
   "cell_type": "code",
   "execution_count": 4,
   "metadata": {},
   "outputs": [
    {
     "data": {
      "text/plain": [
       "['&MILITARY *',\n",
       " '* (للحدود)',\n",
       " '* (الى الحدود)',\n",
       " '* معونة',\n",
       " '* مساعدة',\n",
       " '* $ (ل {الاحزاب الممنوعة})',\n",
       " '* &SECURITY (من {&WEAPON ATTACK})',\n",
       " '* صفقة',\n",
       " '* دستور',\n",
       " '*(في المحكمة)',\n",
       " '*في مصلحة',\n",
       " '*في صالح',\n",
       " '* &WEAPON خلف',\n",
       " '* خلف &WEAPON',\n",
       " '* (في الضغط) (لرفد)',\n",
       " '* (من أجل اخراج) (للضغط)',\n",
       " '* (الى {عقوبات جديدة})',\n",
       " '* (الى بيانات)',\n",
       " '* (الى مصرع)',\n",
       " '* (عن صلة)',\n",
       " '* (الى اتهامات)',\n",
       " '* ({عن {حلقة وصل)',\n",
       " '* (عن رابطة)',\n",
       " '* (الى شكاوي)',\n",
       " '* (الى تهمة)',\n",
       " '* (عن وصلة)',\n",
       " '* (الى بلاغات)',\n",
       " '* (الى تهم)',\n",
       " '* (الى تقارير)',\n",
       " '* (الى وفاة)']"
      ]
     },
     "execution_count": 4,
     "metadata": {},
     "output_type": "execute_result"
    }
   ],
   "source": [
    "#reading the CAMEO arabic rules file\n",
    "rules =[]\n",
    "with open('rules.txt', 'rb') as input_file :\n",
    "    for line in input_file : \n",
    "        if line != '':\n",
    "            rules.append(line.decode('utf-8') )\n",
    "        \n",
    "rules = [i.replace('\\n','') for i in rules]\n",
    "rules = [i for i in rules if i !='']\n",
    "rules[:30]"
   ]
  },
  {
   "cell_type": "markdown",
   "metadata": {},
   "source": [
    "## UDpipe approach"
   ]
  },
  {
   "cell_type": "code",
   "execution_count": 3,
   "metadata": {
    "scrolled": false
   },
   "outputs": [],
   "source": [
    "# http://lindat.mff.cuni.cz/services/udpipe/api/process?tokenizer&tagger&model=arabic-ud-2.0-170801&data=الجرائم\n",
    "acceptable_formats = ['*',\"*()\", \"*{}\"  , \"*({})\", '*()' , '*()()', '*({})', '*()', '*({})()', '*(){}', '*{()}' , '*(())', '*({()})']\n",
    "special_formats = ['()', '()()' , '', '*(}})' , '*}}', '{}' , '*(' , '*({({()' , '*(}()(}']\n",
    "wrong_skip = ['* نزع سلاح) جهود)' , ' * عن تقرير مصير) بيان)', '* عن تقرير مصير) بيان)' , '* ((مساعدات انسانية} (من أجل})']\n",
    "\n",
    "#store things for later\n",
    "special = []\n",
    "to_be_replaced = []\n",
    "error =[]\n",
    "\n",
    "def check_and_reconstruct_rule(rule): \n",
    "    rule = \" \".join(rule.split()) # to remove all white spaces and duplicate ones \n",
    "    if rule == '' :\n",
    "        return 'ERROR'\n",
    "    \n",
    "    rule_encod =str(rule.encode('ascii', errors='ignore') , 'UTF8').replace(\" \", \"\")\n",
    "\n",
    "    if rule_encod in acceptable_formats: #verb is already correct(rare cases)- apply regex stright\n",
    "        return rule\n",
    "    elif rule_encod in special_formats:\n",
    "        return 'SPECIAL'\n",
    "    else : \n",
    "        if rule_encod == '*({{)':\n",
    "            t = rule.find('{')\n",
    "            rule = rule[:t] + rule[t+1: -1] + '})'\n",
    "            rule_encod =str(rule.encode('ascii', errors='ignore') , 'UTF8').replace(\" \", \"\")\n",
    "        elif rule_encod  =='*((':\n",
    "            t =  rule.find('(')\n",
    "            rule = rule[:t] + rule[t+1:] + ')'\n",
    "            rule_encod =str(rule.encode('ascii', errors='ignore') , 'UTF8').replace(\" \", \"\")\n",
    "        elif rule_encod  =='*{{':\n",
    "            t =  rule.find('{')\n",
    "            rule = rule[:t] + rule[t+1:] + '}'\n",
    "            rule_encod =str(rule.encode('ascii', errors='ignore') , 'UTF8').replace(\" \", \"\")\n",
    "        elif rule_encod =='*{((}' : \n",
    "            t = rule.find('(')\n",
    "            rule = rule[:t] + rule[t+1: -1] + ')}'\n",
    "            rule_encod =str(rule.encode('ascii', errors='ignore') , 'UTF8').replace(\" \", \"\") \n",
    "        elif rule_encod == '*{){)': \n",
    "            t = rule.find('{')\n",
    "            rule = rule[:t] + '(' + rule[t+1: -1] + '}'\n",
    "            rule_encod =str(rule.encode('ascii', errors='ignore') , 'UTF8').replace(\" \", \"\") \n",
    "            \n",
    "        \n",
    "        if rule_encod not in acceptable_formats :\n",
    "#             print('ERR | {} | {}'.format(rule, rule_encod))\n",
    "            return 'ERROR'\n",
    "        else :\n",
    "#             print('FIX | {} | {}'.format(rule, rule_encod))\n",
    "            return rule\n",
    "    \n",
    "    return rule\n",
    "\n",
    "def rule(i):\n",
    "    if i.strip()[0] != '*' : # Wrong delete \n",
    "        print('NEED MANUAL FIX :{}'.format(i)) # delete those need to mananually fix\n",
    "        special_formats.append(i)\n",
    "        return i\n",
    "    elif re.search('[a-zA-Z]', i) : \n",
    "        to_be_replaced.append(i)\n",
    "        return i\n",
    "    elif i in wrong_skip : \n",
    "        print('SKP | {}'.format(i))\n",
    "        return i\n",
    "    else : \n",
    "        if '$' in i or '+' in i or '^' in i or '/' in i or '|' in i :\n",
    "            i = ''.join([c for c in i if c not in set(['$', '+', '^', '/' , '|'])])\n",
    "        rule_fixed = check_and_reconstruct_rule(i.strip())\n",
    "        if rule_fixed == i :\n",
    "            return i\n",
    "        elif rule_fixed == 'SPECIAL':\n",
    "            print('NEED MANUAL FIX :{}'.format(i))\n",
    "            special.append(i)\n",
    "            return i\n",
    "        elif rule_fixed == 'ERROR' :\n",
    "            print('ERR :{}'.format(i))\n",
    "            error.append(i)\n",
    "            return i\n",
    "        else :  # fixed by now\n",
    "            return rule_fixed\n",
    "            \n",
    "        \n",
    "# Get data from udpipe\n",
    "def udpipe(string) :\n",
    "    # Prepping String \n",
    "    words  = re.findall(u'[\\u0600-\\u06FF]+', string) #getting arabic characters \n",
    "    data = ' '.join(words)\n",
    "    \n",
    "    pipe_base_url = 'http://lindat.mff.cuni.cz/services/udpipe/api/process?tokenizer&tagger' \n",
    "    attributes = {} \n",
    "    attributes['model'] = 'arabic-ud-2.0-170801'\n",
    "    attributes['data'] = data\n",
    "\n",
    "    data = requests.get(pipe_base_url , attributes)\n",
    "    result = data.json()['result'].split('\\n')\n",
    "    udpipe_results = [re.findall(u'[\\u0600-\\u06FF]+', i) for i in result] # cleaning \n",
    "    udpipe_results = [i for i in udpipe_results if i !=[]]\n",
    "    \n",
    "    return udpipe_results\n",
    "\n",
    "def udpipe_reconstruct(original_text) : \n",
    "    udpipe_results = udpipe(original_text)\n",
    "    for i in range(1, len(udpipe_results)):\n",
    "        if len(udpipe_results[i]) == 1 : # composite verbs get the next two words\n",
    "            original_text =original_text.replace(udpipe_results[i][0] , '{} {}'.format(udpipe_results[i+1][1],udpipe_results[i+2][1]))\n",
    "        else :\n",
    "            original_text =original_text.replace(udpipe_results[i][0] , udpipe_results[i][1])\n",
    "    original_text = araby.strip_tashkeel(original_text)\n",
    "    return original_text\n",
    "\n",
    "\n",
    "def master_reconstruct_input(text_input , input_type): \n",
    "    # type 0: none-rule just do just do udpipe_reconstruction\n",
    "    # type 1 : fix the rule + do udpipe_reconstruction\n",
    "    if input_type == 0:\n",
    "        return udpipe_reconstruct(text_input)\n",
    "    else : \n",
    "        return udpipe_reconstruct(rule(text_input))\n",
    "    "
   ]
  },
  {
   "cell_type": "code",
   "execution_count": 9,
   "metadata": {},
   "outputs": [
    {
     "name": "stdout",
     "output_type": "stream",
     "text": [
      "لرفد\n",
      "NEED MANUAL FIX :لرفد\n"
     ]
    },
    {
     "data": {
      "text/plain": [
       "'لرفد'"
      ]
     },
     "execution_count": 9,
     "metadata": {},
     "output_type": "execute_result"
    }
   ],
   "source": [
    "# x = 'أضرم+النار+في'\n",
    "# print(x.strip())\n",
    "# udpipe_reconstruct(x)\n",
    "x = 'لرفد'\n",
    "print(x)\n",
    "master_reconstruct_input(x, 1)"
   ]
  },
  {
   "cell_type": "code",
   "execution_count": 5,
   "metadata": {},
   "outputs": [
    {
     "data": {
      "text/plain": [
       "'مزود_رعاية_صحي_رئيسي [~HLH]'"
      ]
     },
     "execution_count": 5,
     "metadata": {},
     "output_type": "execute_result"
    }
   ],
   "source": [
    "udpipe_reconstruct('مزود_الرعاية_الصحية_الرئيسية [~HLH]')\n"
   ]
  },
  {
   "cell_type": "code",
   "execution_count": 7,
   "metadata": {},
   "outputs": [
    {
     "name": "stdout",
     "output_type": "stream",
     "text": [
      "&\n",
      "M\n",
      "I\n",
      "L\n",
      "I\n",
      "T\n",
      "A\n",
      "R\n",
      "Y\n",
      " \n",
      "*\n"
     ]
    }
   ],
   "source": [
    "#Fixing sysets \n",
    "x = rules[0]\n",
    "for i in x :\n",
    "    print(i)"
   ]
  }
 ],
 "metadata": {
  "kernelspec": {
   "display_name": "Python 3",
   "language": "python",
   "name": "python3"
  },
  "language_info": {
   "codemirror_mode": {
    "name": "ipython",
    "version": 3
   },
   "file_extension": ".py",
   "mimetype": "text/x-python",
   "name": "python",
   "nbconvert_exporter": "python",
   "pygments_lexer": "ipython3",
   "version": "3.6.4"
  }
 },
 "nbformat": 4,
 "nbformat_minor": 2
}
