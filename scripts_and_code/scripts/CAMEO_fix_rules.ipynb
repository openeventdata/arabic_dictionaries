{
 "cells": [
  {
   "cell_type": "code",
   "execution_count": 3,
   "metadata": {},
   "outputs": [],
   "source": [
    "import requests\n",
    "import pyarabic.araby as araby # for processing arabic \n",
    "import re"
   ]
  },
  {
   "cell_type": "code",
   "execution_count": 4,
   "metadata": {},
   "outputs": [
    {
     "data": {
      "text/plain": [
       "['# LAST UPDATE: 11 July 2018',\n",
       " '',\n",
       " '####### SYNONYM SETS ####### ',\n",
       " '&CURRENCY',\n",
       " '',\n",
       " '+درهم_مغربي_',\n",
       " '+فرنك_كونغولي_',\n",
       " '+ناكفا_',\n",
       " '+فرنك_سويسري_',\n",
       " '+نيرة_نيجيرية_',\n",
       " '+تالا_',\n",
       " '+روبية_نيبالية_',\n",
       " '+يورو_',\n",
       " '+بيسو_فلبيني_',\n",
       " '+كوردبا_نيكاراغوا_',\n",
       " '+كرون_إستوني_',\n",
       " '+ساماني_طاجيكي_',\n",
       " '+دينار_تونسي_',\n",
       " '+دولار_غياني_',\n",
       " '+سيدي_',\n",
       " '+مارك_',\n",
       " '+نغولترم_',\n",
       " '+دولار_جامايكي_',\n",
       " '+بات_',\n",
       " '+هريفنا_',\n",
       " '+دولار_البليز_',\n",
       " '+بيزو_أرجنتيني_',\n",
       " '+أوقية_',\n",
       " '+دينار_',\n",
       " '+درام_أرميني_']"
      ]
     },
     "execution_count": 4,
     "metadata": {},
     "output_type": "execute_result"
    }
   ],
   "source": [
    "#reading the CAMEO arabic rules file\n",
    "rules =[]\n",
    "with open('CAMEO.ar.0.2.txt', 'rb') as input_file :\n",
    "    for line in input_file : \n",
    "        if line != '':\n",
    "            rules.append(line.decode('utf-8') )\n",
    "        \n",
    "rules = [i.replace('\\n','') for i in rules]\n",
    "# rules = [i for i in rules if i !='']\n",
    "rules[:30]"
   ]
  },
  {
   "cell_type": "code",
   "execution_count": 5,
   "metadata": {},
   "outputs": [
    {
     "data": {
      "text/plain": [
       "'- * (ل حد)   [154] '"
      ]
     },
     "execution_count": 5,
     "metadata": {},
     "output_type": "execute_result"
    }
   ],
   "source": [
    "x = ''\n",
    "for i in rules :\n",
    "    if i.startswith('- *') : \n",
    "        x = i\n",
    "        break\n",
    "y = x.split('#')\n",
    "y[0]"
   ]
  },
  {
   "cell_type": "markdown",
   "metadata": {},
   "source": [
    "## UDpipe approach"
   ]
  },
  {
   "cell_type": "code",
   "execution_count": 9,
   "metadata": {
    "scrolled": false
   },
   "outputs": [],
   "source": [
    "# http://lindat.mff.cuni.cz/services/udpipe/api/process?tokenizer&tagger&model=arabic-ud-2.0-170801&data=الجرائم\n",
    "acceptable_formats = ['-*[]',\"-*()[]\", \"-*{}[]\"  , \"-*({})[]\", '-*()[]' , '-*()()[]', '-*({})()[]', '-*{()}[]' , '-*(())[]', '-*({()})[]' , '-*(){}[]' , '-*{}()[]' , '-*(){}[]']\n",
    "special_formats = ['-*()', '-*()()[]' , '', '-*(}})[]' , '-*}}[]', '-*{}[]' , '-*([]' , '-*({({()[]'  , '-*(}()(}[]' , '-*))[]', '-*((}(})[]']\n",
    "wrong_skip = ['* نزع سلاح) جهود)' , ' * عن تقرير مصير) بيان)', '* عن تقرير مصير) بيان)' , '* ((مساعدات انسانية} (من أجل})']\n",
    "encod_chars = ['-' , '*' , '(' , ')' , '[' , ']' , '{','}']\n",
    "#store things for later\n",
    "special = []\n",
    "to_be_replaced = []\n",
    "error =[]\n",
    "\n",
    "def check_and_reconstruct_rule(rule): \n",
    "    rule = ' '.join(rule.split()) # to remove all white spaces and duplicate ones \n",
    "    if rule == '' :\n",
    "        return 'ERROR'\n",
    "    \n",
    "    rule_encod = ''.join([i for i in rule if i in encod_chars])\n",
    "#     print('RULE : {} || ENCODE : {}'.format(rule , rule_encod))\n",
    "    \n",
    "    if rule_encod in acceptable_formats: #verb is already correct(rare cases)- apply regex stright\n",
    "        return rule\n",
    "    elif rule_encod in special_formats:\n",
    "#         print(\"YES\")\n",
    "        return 'SPECIAL'\n",
    "    else : \n",
    "        if rule_encod == '-*({{)[]': # -*({{)[]\n",
    "            t = rule.find('{')\n",
    "            rule = rule[:t] + rule[t+1: -1] + '})'\n",
    "            rule_encod =''.join([i for i in rule if i in encod_chars])\n",
    "        elif rule_encod  =='*((':\n",
    "            t =  rule.find('(')\n",
    "            rule = rule[:t] + rule[t+1:] + ')'\n",
    "            rule_encod =''.join([i for i in rule if i in encod_chars])\n",
    "        elif rule_encod  =='*{{':\n",
    "            t =  rule.find('{')\n",
    "            rule = rule[:t] + rule[t+1:] + '}'\n",
    "            rule_encod =''.join([i for i in rule if i in encod_chars])\n",
    "        elif rule_encod =='*{((}' : \n",
    "            t = rule.find('(')\n",
    "            rule = rule[:t] + rule[t+1: -1] + ')}'\n",
    "            rule_encod =''.join([i for i in rule if i in encod_chars])\n",
    "        elif rule_encod == '*{){)': \n",
    "            t = rule.find('{')\n",
    "            rule = rule[:t] + '(' + rule[t+1: -1] + '}'\n",
    "            rule_encod =''.join([i for i in rule if i in encod_chars])\n",
    "        elif rule_encod in['-***[]','-***()[]' , '-*()**[]'] : \n",
    "            rule = rule [3:]\n",
    "            t = rule.find('*')\n",
    "            rule = rule[:t] + '{' + rule[t+1:]\n",
    "            t = rule.find('*')\n",
    "            rule = rule[:t] + '}' + rule[t+1:]\n",
    "            rule = '- *' + rule\n",
    "            rule_encod =''.join([i for i in rule if i in encod_chars])\n",
    "            \n",
    "        \n",
    "        if rule_encod not in acceptable_formats :\n",
    "            print('ERR | {} | {}'.format(rule, rule_encod))\n",
    "            return 'ERROR'\n",
    "        else :\n",
    "#             print('FIX | {} | {}'.format(rule, rule_encod))\n",
    "            return rule\n",
    "    \n",
    "    return rule\n",
    "\n",
    "def rule(i):\n",
    "    if i.strip()[0] != '-' : # Wrong delete \n",
    "        print('NEED MANUAL FIX :{}'.format(i)) # delete those need to mananually fix\n",
    "        special.append(i)\n",
    "        return i\n",
    "    elif re.search('[a-zA-Z]', i) : \n",
    "        to_be_replaced.append(i)\n",
    "        return i\n",
    "    \n",
    "    elif i in wrong_skip : \n",
    "        print('SKP | {}'.format(i))\n",
    "        return i\n",
    "    else : \n",
    "        if '$' in i or '+' in i or '^' in i or '/' in i or '|' in i :\n",
    "            i = ''.join([c for c in i if c not in set(['$', '+', '^', '/' , '|'])])\n",
    "            print(\"EHH :{}\".format(i))\n",
    "        rule_fixed = check_and_reconstruct_rule(i.strip())\n",
    "        if rule_fixed == i :\n",
    "            return i\n",
    "        elif rule_fixed == 'SPECIAL':\n",
    "            print('SPECIAL :{}'.format(i))\n",
    "            special.append(i)\n",
    "            return 'SPECIAL'\n",
    "        elif rule_fixed == 'ERROR' :\n",
    "            print('RET ERR :{}'.format(i))\n",
    "            error.append(i)\n",
    "            return 'ERROR'\n",
    "        else :  # fixed by now\n",
    "#             print('is all good')\n",
    "            return rule_fixed\n",
    "            \n",
    "        "
   ]
  },
  {
   "cell_type": "code",
   "execution_count": 49,
   "metadata": {},
   "outputs": [
    {
     "name": "stdout",
     "output_type": "stream",
     "text": [
      "NEED MANUAL FIX :- * (نقل جوي} (من) (إلى}   [073] \n",
      "-------SPECAIL----------\n",
      "old_ :- * (نقل جوي} (من) (إلى}   [073] \n",
      "new_ :SPECIAL\n",
      "-----------------\n",
      "NEED MANUAL FIX :- * (نقل جوي} (من) (إلى}   [073] \n",
      "-------SPECAIL----------\n",
      "old_ :- * (نقل جوي} (من) (إلى}   [073] \n",
      "new_ :SPECIAL\n",
      "-----------------\n",
      "NEED MANUAL FIX :- * نزع سلاح) جهد)   [105] \n",
      "-------SPECAIL----------\n",
      "old_ :- * نزع سلاح) جهد)   [105] \n",
      "new_ :SPECIAL\n",
      "-----------------\n",
      "NEED MANUAL FIX :- * نزع سلاح) جهد)   [105] \n",
      "-------SPECAIL----------\n",
      "old_ :- * نزع سلاح) جهد)   [105] \n",
      "new_ :SPECIAL\n",
      "-----------------\n",
      "NEED MANUAL FIX :- * عن تقرير مصير) بيان)   [1044] \n",
      "-------SPECAIL----------\n",
      "old_ :- * عن تقرير مصير) بيان)   [1044] \n",
      "new_ :SPECIAL\n",
      "-----------------\n",
      "NEED MANUAL FIX :- * ((مساعدة إنساني} (من أجل})   [073] \n",
      "-------SPECAIL----------\n",
      "old_ :- * ((مساعدة إنساني} (من أجل})   [073] \n",
      "new_ :SPECIAL\n",
      "-----------------\n",
      "NEED MANUAL FIX :- * ((مساعدة إنساني} (من أجل})   [073] \n",
      "-------SPECAIL----------\n",
      "old_ :- * ((مساعدة إنساني} (من أجل})   [073] \n",
      "new_ :SPECIAL\n",
      "-----------------\n",
      "NEED MANUAL FIX :- * (مشروع مشترك} في})   [061] \n",
      "-------SPECAIL----------\n",
      "old_ :- * (مشروع مشترك} في})   [061] \n",
      "new_ :SPECIAL\n",
      "-----------------\n",
      "NEED MANUAL FIX :- * هجوم مضاد} ضد}   [190] \n",
      "-------SPECAIL----------\n",
      "old_ :- * هجوم مضاد} ضد}   [190] \n",
      "new_ :SPECIAL\n",
      "-----------------\n",
      "NEED MANUAL FIX :- *(في مداهمة   [1711] \n",
      "-------SPECAIL----------\n",
      "old_ :- *(في مداهمة   [1711] \n",
      "new_ :SPECIAL\n",
      "-----------------\n",
      "NEED MANUAL FIX :- * ({(في {تبادل (ل إطلاق النار)   [193] \n",
      "-------SPECAIL----------\n",
      "old_ :- * ({(في {تبادل (ل إطلاق النار)   [193] \n",
      "new_ :SPECIAL\n",
      "-----------------\n",
      "NEED MANUAL FIX :- * ({(في {تبادل (ل إطلاق النار)   [193] \n",
      "-------SPECAIL----------\n",
      "old_ :- * ({(في {تبادل (ل إطلاق النار)   [193] \n",
      "new_ :SPECIAL\n",
      "-----------------\n"
     ]
    }
   ],
   "source": [
    "for i in range(len(rules)) : \n",
    "    if rules[i].startswith('- *'): \n",
    "        sp_re = rules[i].split('#')\n",
    "        o_r = sp_re[0]\n",
    "        utl_part = sp_re[1]\n",
    "        r = rule(o_r)\n",
    "        if r =='ERROR':\n",
    "            print('-----------------')\n",
    "            print('old_ :{}'.format(o_r))\n",
    "            print('new_ :{}'.format(r))\n",
    "            print('-----------------')\n",
    "            break\n",
    "        elif r == 'SPECIAL':\n",
    "            print('-------SPECAIL----------')\n",
    "            print('old_ :{}'.format(o_r))\n",
    "            print('new_ :{}'.format(r))\n",
    "            print('-----------------')\n",
    "        else :\n",
    "            rules[i] = r + ' #{}'.format(utl_part)\n",
    "#             print(rules[i])\n",
    "            \n",
    "        "
   ]
  },
  {
   "cell_type": "code",
   "execution_count": 181,
   "metadata": {},
   "outputs": [],
   "source": [
    "with open('CAMERO.ar.txt' , 'w') as output_file:\n",
    "    for line in rules: \n",
    "        output_file.write('{}\\n'.format(line))\n",
    "    "
   ]
  },
  {
   "cell_type": "code",
   "execution_count": 10,
   "metadata": {},
   "outputs": [],
   "source": [
    "def udpipe(string) :\n",
    "    # Prepping String \n",
    "    words  = re.findall(u'[\\u0600-\\u06FF]+', string) #getting arabic characters \n",
    "    data = ' '.join(words)\n",
    "    \n",
    "    pipe_base_url = 'http://lindat.mff.cuni.cz/services/udpipe/api/process?tokenizer&tagger' \n",
    "    attributes = {} \n",
    "    attributes['model'] = 'arabic-ud-2.0-170801'\n",
    "    attributes['data'] = data\n",
    "\n",
    "    data = requests.get(pipe_base_url , attributes)\n",
    "    result = data.json()['result'].split('\\n')\n",
    "    udpipe_results = [re.findall(u'[\\u0600-\\u06FF]+', i) for i in result] # cleaning \n",
    "    udpipe_results = [i for i in udpipe_results if i !=[]]\n",
    "    \n",
    "    return udpipe_results\n",
    "\n",
    "def udpipe_reconstruct(original_text) : \n",
    "    udpipe_results = udpipe(original_text)\n",
    "    for i in range(1, len(udpipe_results)):\n",
    "        if len(udpipe_results[i]) == 1 : # composite verbs get the next two words\n",
    "            original_text =original_text.replace(udpipe_results[i][0] , '{} {}'.format(udpipe_results[i+1][1],udpipe_results[i+2][1]))\n",
    "        else :\n",
    "            original_text =original_text.replace(udpipe_results[i][0] , udpipe_results[i][1])\n",
    "    original_text = araby.strip_tashkeel(original_text)\n",
    "    return original_text\n",
    "\n",
    "\n",
    "def master_reconstruct_input(text_input , input_type): \n",
    "    # type 0: none-rule just do just do udpipe_reconstruction\n",
    "    # type 1 : fix the rule + do udpipe_reconstruction\n",
    "    if input_type == 0:\n",
    "        return udpipe_reconstruct(text_input)\n",
    "    else : \n",
    "        return udpipe_reconstruct(rule(text_input))"
   ]
  },
  {
   "cell_type": "markdown",
   "metadata": {},
   "source": [
    "## the extra verb stuff"
   ]
  },
  {
   "cell_type": "code",
   "execution_count": 7,
   "metadata": {},
   "outputs": [
    {
     "name": "stdout",
     "output_type": "stream",
     "text": [
      "['--- عصم  [140] ---', '', '--- فجر  [---] ---', '- *  قنابل\\t\\t[183]', '', '--- غول  [---] ---', '- *  فلسطيني\\t\\t[186]', '', '--- هدف  [---] ---', '- * * برجي مركز التجارة العالمي*\\t\\t[1383]']\n",
      "3981\n",
      "['--- عصم  [140] ---', '', '--- فجر  [---] ---', '- *  قنابل\\t\\t[183]', '', '--- غول  [---] ---', '- *  فلسطيني\\t\\t[186]', '', '--- هدف  [---] ---', '- * * برجي مركز التجارة العالمي*\\t\\t[1383]']\n",
      "3981\n"
     ]
    }
   ],
   "source": [
    "new_dict =[]\n",
    "with open('extra_verb_dict.txt') as inputf : \n",
    "    for i in inputf : \n",
    "        new_dict.append(i.replace('\\n' , ''))\n",
    "\n",
    "print(new_dict[:10])\n",
    "print(len(new_dict))\n",
    "# new_dict = [i.strip() for i in new_dict if i]\n",
    "print(new_dict[:10])\n",
    "print(len(new_dict))"
   ]
  },
  {
   "cell_type": "code",
   "execution_count": 22,
   "metadata": {},
   "outputs": [
    {
     "name": "stdout",
     "output_type": "stream",
     "text": [
      "ERR | --- غول [---] --- | ---[---]---\n",
      "RET ERR :--- غول  [---] ---\n"
     ]
    },
    {
     "data": {
      "text/plain": [
       "'ERROR'"
      ]
     },
     "execution_count": 22,
     "metadata": {},
     "output_type": "execute_result"
    }
   ],
   "source": []
  },
  {
   "cell_type": "code",
   "execution_count": 23,
   "metadata": {},
   "outputs": [],
   "source": [
    "RULE_FORMAT_ERROR = [] \n",
    "FIXED_AND_LIMMATIZED = [] \n",
    "\n",
    "for i in new_dict :\n",
    "    if i == '' : \n",
    "        FIXED_AND_LIMMATIZED.append('')\n",
    "        continue\n",
    "    if i[:3] == '---' : \n",
    "        reconstructed = master_reconstruct_input(i, 0)\n",
    "    elif i[:3] == '- *': \n",
    "        reconstructed = master_reconstruct_input(i, 1)\n",
    "    else : \n",
    "        print('unknown input : -{}-'.format(i))\n",
    "#         print('type {}'.format(type(i)))\n",
    "#     reconstructed = master_reconstruct_input(i,0 )\n",
    "    if reconstructed =='ERROR': \n",
    "        break\n",
    "    if reconstructed =='SPECIAL' :\n",
    "        print('SPECIAL : {}'.format(i))\n",
    "    else : \n",
    "        FIXED_AND_LIMMATIZED.append(reconstructed)"
   ]
  },
  {
   "cell_type": "code",
   "execution_count": 24,
   "metadata": {},
   "outputs": [
    {
     "data": {
      "text/plain": [
       "3981"
      ]
     },
     "execution_count": 24,
     "metadata": {},
     "output_type": "execute_result"
    }
   ],
   "source": [
    "len(FIXED_AND_LIMMATIZED)"
   ]
  },
  {
   "cell_type": "code",
   "execution_count": 60,
   "metadata": {},
   "outputs": [
    {
     "data": {
      "text/plain": [
       "'- * {الطائرات العسكرية} (لقصف) [195]'"
      ]
     },
     "execution_count": 60,
     "metadata": {},
     "output_type": "execute_result"
    }
   ],
   "source": [
    "x = '- * *الطائرات العسكرية* (لقصف) [195]'\n",
    "x = x[3:]\n",
    "t = x.find('*')\n",
    "x = x[:t] + '{' + x[t+1:]\n",
    "t = x.find('*')\n",
    "x = x[:t] + '}' + x[t+1:]\n",
    "x = '- *' + x \n",
    "x"
   ]
  },
  {
   "cell_type": "code",
   "execution_count": 72,
   "metadata": {},
   "outputs": [],
   "source": [
    "for i in new_dict:\n",
    "    if i[:3] != '---':\n",
    "        rule(i)"
   ]
  },
  {
   "cell_type": "code",
   "execution_count": 25,
   "metadata": {},
   "outputs": [
    {
     "name": "stdout",
     "output_type": "stream",
     "text": [
      "done !\n"
     ]
    }
   ],
   "source": [
    "with open('extra_verb_dict_fixed', 'w') as outputf : \n",
    "    for i in FIXED_AND_LIMMATIZED :\n",
    "        outputf.write('{}\\n'.format(i))\n",
    "print('done !')"
   ]
  },
  {
   "cell_type": "code",
   "execution_count": null,
   "metadata": {},
   "outputs": [],
   "source": []
  }
 ],
 "metadata": {
  "kernelspec": {
   "display_name": "Python 3",
   "language": "python",
   "name": "python3"
  },
  "language_info": {
   "codemirror_mode": {
    "name": "ipython",
    "version": 3
   },
   "file_extension": ".py",
   "mimetype": "text/x-python",
   "name": "python",
   "nbconvert_exporter": "python",
   "pygments_lexer": "ipython3",
   "version": "3.6.4"
  }
 },
 "nbformat": 4,
 "nbformat_minor": 2
}
