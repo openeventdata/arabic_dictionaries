{
 "cells": [
  {
   "cell_type": "code",
   "execution_count": 6,
   "metadata": {},
   "outputs": [],
   "source": [
    "import datetime\n",
    "import json\n",
    "import ast\n",
    "import re"
   ]
  },
  {
   "cell_type": "code",
   "execution_count": 3,
   "metadata": {},
   "outputs": [],
   "source": [
    "with open(\"verbdic_20170425.txt\") as vd:\n",
    "    vd_raw = vd.read()\n",
    "\n",
    "vd_raw = re.sub(\"'\", '\"', vd_raw)\n",
    "vd_raw = re.sub('False', '\"False\"', vd_raw)\n",
    "vd_raw = re.sub('True', '\"True\"', vd_raw)\n",
    "\n",
    "vd_raw = vd_raw.split(\"\\n\")\n",
    "\n",
    "#vd_raw"
   ]
  },
  {
   "cell_type": "code",
   "execution_count": 4,
   "metadata": {},
   "outputs": [],
   "source": [
    "verb_dict = []\n",
    "\n",
    "counter = 0\n",
    "for line in vd_raw:\n",
    "    try:\n",
    "        ll = json.loads(line)\n",
    "        verb_dict.append(ll)\n",
    "#         print(str(counter) , verb_dict[len(verb_dict) -1 ])\n",
    "    except:\n",
    "#         print(line)\n",
    "        counter += 1 "
   ]
  },
  {
   "cell_type": "code",
   "execution_count": 9,
   "metadata": {},
   "outputs": [
    {
     "name": "stdout",
     "output_type": "stream",
     "text": [
      "#خدم# *الطائرات العسكرية* (لقصف)\n"
     ]
    }
   ],
   "source": [
    "re.findall(\"#(.+)#\" , reconstruct_string(verb_dict[149]['verb']))\n",
    "print(reconstruct_string(verb_dict[149]['verb']))"
   ]
  },
  {
   "cell_type": "code",
   "execution_count": 166,
   "metadata": {},
   "outputs": [
    {
     "name": "stdout",
     "output_type": "stream",
     "text": [
      "\n",
      "\n",
      "Corrupt : (اصيب# (في انفجار#\n",
      "\n",
      "\n",
      "Correct : #اصيب# (في انفجار)\n",
      "Corrupt ascii encoding\n",
      "(\n",
      "#\n",
      " \n",
      "(\n",
      " \n",
      "#\n",
      "\n",
      "\n",
      "Correct ascii encoding\n",
      "#\n",
      "#\n",
      " \n",
      "(\n",
      " \n",
      ")\n"
     ]
    }
   ],
   "source": [
    "goal_correct_string = '#اصيب# (في انفجار)'\n",
    "goal_corrupt_string = '(اصيب# (في انفجار#'\n",
    "print(\"\\n\\nCorrupt :\" , goal_corrupt_string)\n",
    "print(\"\\n\\nCorrect :\" , goal_correct_string)\n",
    "\n",
    "print(\"Corrupt ascii encoding\")\n",
    "corrupt_encoding= goal_corrupt_string.encode('ascii', errors='ignore') \n",
    "for i in range(len(corrupt_encoding)):\n",
    "    print(chr(corrupt_encoding[i]))\n",
    "    \n",
    "print(\"\\n\\nCorrect ascii encoding\")\n",
    "correct_encoding= goal_correct_string.encode('ascii', errors='ignore') \n",
    "for i in range(len(correct_encoding)):\n",
    "    print(chr(correct_encoding[i]))\n"
   ]
  },
  {
   "cell_type": "code",
   "execution_count": 300,
   "metadata": {},
   "outputs": [],
   "source": [
    "acceptable_formats = [\"##()()\" , \"##**()\"  , \"##**\" , \"##()\" , \"##()**\"]\n",
    "#core techinque is switching the first and lat letters  \n",
    "def check_and_reconstruct_verb(verb): \n",
    "    verb.strip()\n",
    "    verb_encod =str(verb.encode('ascii', errors='ignore') , 'UTF8').replace(\" \", \"\")\n",
    "    if verb_encod == '' : \n",
    "        return verb\n",
    "    elif verb_encod in acceptable_formats: #verb is already correct(rare cases)\n",
    "        return verb \n",
    "    else : \n",
    "        arr = list(verb)\n",
    "        arr= arr[-1:] + arr[:-1]\n",
    "#         return \"\".join(arr)\n",
    "            #Some verbs are entered inncorretly(coded wrong), at this point we should be able to catch them \n",
    "        reconstructed_string = \"\".join(arr)\n",
    "        rc_string_encod = str(reconstructed_string.encode('ascii', errors='ignore') , 'UTF8').replace(\" \", \"\").strip()\n",
    "        if rc_string_encod in acceptable_formats :\n",
    "            return reconstructed_string\n",
    "        else :\n",
    "            return reconstructed_string\n"
   ]
  },
  {
   "cell_type": "code",
   "execution_count": 301,
   "metadata": {},
   "outputs": [
    {
     "name": "stdout",
     "output_type": "stream",
     "text": [
      "*#*#\n"
     ]
    }
   ],
   "source": [
    "\n",
    "x2= '*نشر#* قوات حفظ سلام#'\n",
    "x2 = \" \".join(x2.split())\n",
    "# print('\\n\\n==')\n",
    "# for i in range(len(x2)):\n",
    "#     print(x2[i])\n",
    "# print('\\n\\n==')\n",
    "\n",
    "print(str(x2.encode('ascii', errors='ignore') , 'UTF8').replace(\" \", \"\"))\n",
    "x2 = check_and_reconstruct_verb(x2)\n",
    "\n"
   ]
  },
  {
   "cell_type": "code",
   "execution_count": 302,
   "metadata": {},
   "outputs": [
    {
     "name": "stdout",
     "output_type": "stream",
     "text": [
      "#*نشر#* قوات حفظ سلام\n"
     ]
    },
    {
     "data": {
      "text/plain": [
       "['*نشر']"
      ]
     },
     "execution_count": 302,
     "metadata": {},
     "output_type": "execute_result"
    }
   ],
   "source": [
    "print(x2)\n",
    "re.findall(\"#(.+)#\" , x2)"
   ]
  },
  {
   "cell_type": "code",
   "execution_count": 162,
   "metadata": {},
   "outputs": [
    {
     "name": "stdout",
     "output_type": "stream",
     "text": [
      "#نشر#* قوات حفظ سلام*\n"
     ]
    }
   ],
   "source": [
    "\n",
    "arr = list('*نشر#* قوات حفظ سلام#')\n",
    "#replace first char with last - op_1\n",
    "#flip last char \n",
    "temp = arr[0]\n",
    "arr[0] = arr[len(arr) -1]\n",
    "if temp != '*' :\n",
    "    arr[len(arr) -1] = ')'\n",
    "else :\n",
    "    arr[len(arr) -1] = temp \n",
    "    \n",
    "\n",
    "    \n",
    "print (\"\".join(arr))"
   ]
  },
  {
   "cell_type": "markdown",
   "metadata": {},
   "source": [
    "## Remving duplicate rules \n",
    "Once the verbs dictionary is ready (dictionary including only verbs not synset), remove any duplicate rules "
   ]
  },
  {
   "cell_type": "code",
   "execution_count": 69,
   "metadata": {},
   "outputs": [
    {
     "data": {
      "text/plain": [
       "['--- عمل [---] ---',\n",
       " 'عمل                             # rush',\n",
       " 'سرع                             # rush',\n",
       " 'هرل                             # rush',\n",
       " 'أنطلق                           # rush',\n",
       " 'عجل                             # rush',\n",
       " 'هرع                             # rush',\n",
       " '- * &MILITARY   [154] # عمل_بسرعة,سرع,هرل,اِنْطلق_بِسُرْعة,عجل,هرع',\n",
       " '- * (ل حد) [154] # عمل_بسرعة,سرع,هرل,اِنْطلق_بِسُرْعة,عجل,هرع',\n",
       " '- * (إلى حد) [154] # عمل_بسرعة,سرع,هرل,اِنْطلق_بِسُرْعة,عجل,هرع',\n",
       " '- * معونة [070] # عمل_بسرعة,سرع,هرل,اِنْطلق_بِسُرْعة,عجل,هرع',\n",
       " '- * مساعدة [070] # عمل_بسرعة,سرع,هرل,اِنْطلق_بِسُرْعة,عجل,هرع',\n",
       " '--- اضاف [---] ---',\n",
       " 'اضاف                            # add',\n",
       " '- * (ل {الاحزاب الممنوعة}) [1722] # اضاف',\n",
       " '- * (ل {الاحزاب الممنوعة}) [1722] # اضاف',\n",
       " '--- نبه [---] ---',\n",
       " 'نبه                             # alert',\n",
       " 'نذر                             # alert',\n",
       " 'حذر                             # alert',\n",
       " '- * &SECURITY (من {&WEAPON ATTACK})   [151]  # نبه,نذر,حذر',\n",
       " '--- راجع [---] ---',\n",
       " 'راجع                            # revise',\n",
       " '- * صفقة [031] # راجع',\n",
       " '- * دستور [0344] # راجع',\n",
       " '--- بدا [---] ---',\n",
       " 'بدأ                             # appear,look',\n",
       " 'حقق+في                          # look',\n",
       " 'طلع                             # look',\n",
       " 'تفقد                            # look']"
      ]
     },
     "execution_count": 69,
     "metadata": {},
     "output_type": "execute_result"
    }
   ],
   "source": [
    "verbs = [] \n",
    "with open('CAMEO.0.03_verbs_and_verb_patterns_only.txt' , 'r') as input_file:\n",
    "    for i in input_file : \n",
    "        verbs.append(i.replace('\\n' , ''))\n",
    "verbs = [i for i in verbs if i]\n",
    "verbs[:30]"
   ]
  },
  {
   "cell_type": "code",
   "execution_count": 70,
   "metadata": {},
   "outputs": [],
   "source": [
    "def unique(sequence):\n",
    "    seen = set()\n",
    "    return [x for x in sequence if not (x in seen or seen.add(x))]"
   ]
  },
  {
   "cell_type": "code",
   "execution_count": 71,
   "metadata": {},
   "outputs": [],
   "source": [
    "verbs_clean = [] \n",
    "# for i in range\n",
    "cr = 0 \n",
    "while cr < len(verbs) : \n",
    "    if verbs[cr][:3].strip() == '---' : \n",
    "        verbs_clean.append(verbs[cr])\n",
    "        cr+=1 \n",
    "#         print(verbs[cr][:3] , '| ',cr)\n",
    "        tmp = []\n",
    "        while True:                    \n",
    "            tmp.append(verbs[cr])\n",
    "            cr+=1 \n",
    "            if cr >= len(verbs ) or verbs[cr][:3].strip() == '---':\n",
    "                break\n",
    "        verbs_clean.extend(unique(tmp))\n",
    "        verbs_clean.append(' ')\n",
    "        verbs_clean.append(' ')\n",
    "        \n",
    "        \n",
    "        "
   ]
  },
  {
   "cell_type": "code",
   "execution_count": 72,
   "metadata": {},
   "outputs": [
    {
     "data": {
      "text/plain": [
       "['--- عمل [---] ---',\n",
       " 'عمل                             # rush',\n",
       " 'سرع                             # rush',\n",
       " 'هرل                             # rush',\n",
       " 'أنطلق                           # rush',\n",
       " 'عجل                             # rush',\n",
       " 'هرع                             # rush',\n",
       " '- * &MILITARY   [154] # عمل_بسرعة,سرع,هرل,اِنْطلق_بِسُرْعة,عجل,هرع',\n",
       " '- * (ل حد) [154] # عمل_بسرعة,سرع,هرل,اِنْطلق_بِسُرْعة,عجل,هرع',\n",
       " '- * (إلى حد) [154] # عمل_بسرعة,سرع,هرل,اِنْطلق_بِسُرْعة,عجل,هرع',\n",
       " '- * معونة [070] # عمل_بسرعة,سرع,هرل,اِنْطلق_بِسُرْعة,عجل,هرع',\n",
       " '- * مساعدة [070] # عمل_بسرعة,سرع,هرل,اِنْطلق_بِسُرْعة,عجل,هرع',\n",
       " ' ',\n",
       " ' ',\n",
       " '--- اضاف [---] ---',\n",
       " 'اضاف                            # add',\n",
       " '- * (ل {الاحزاب الممنوعة}) [1722] # اضاف',\n",
       " ' ',\n",
       " ' ',\n",
       " '--- نبه [---] ---',\n",
       " 'نبه                             # alert',\n",
       " 'نذر                             # alert',\n",
       " 'حذر                             # alert',\n",
       " '- * &SECURITY (من {&WEAPON ATTACK})   [151]  # نبه,نذر,حذر',\n",
       " ' ',\n",
       " ' ',\n",
       " '--- راجع [---] ---',\n",
       " 'راجع                            # revise',\n",
       " '- * صفقة [031] # راجع',\n",
       " '- * دستور [0344] # راجع']"
      ]
     },
     "execution_count": 72,
     "metadata": {},
     "output_type": "execute_result"
    }
   ],
   "source": [
    "verbs_clean[:30]"
   ]
  },
  {
   "cell_type": "code",
   "execution_count": 74,
   "metadata": {},
   "outputs": [
    {
     "name": "stdout",
     "output_type": "stream",
     "text": [
      "4804\n",
      "4808\n",
      "really ? ......\n"
     ]
    }
   ],
   "source": [
    "print(len(verbs))\n",
    "print(len(verbs_clean))\n",
    "print('really ? ......')"
   ]
  },
  {
   "cell_type": "code",
   "execution_count": 76,
   "metadata": {},
   "outputs": [],
   "source": [
    "with open('verbs_no_duplicates.txt' , 'w') as out : \n",
    "    for i in verbs_clean : \n",
    "        out.write('{}\\n'.format(i))"
   ]
  },
  {
   "cell_type": "code",
   "execution_count": 61,
   "metadata": {},
   "outputs": [
    {
     "data": {
      "text/plain": [
       "['y']"
      ]
     },
     "execution_count": 61,
     "metadata": {},
     "output_type": "execute_result"
    }
   ],
   "source": [
    "x = ['x' , 'x' , 'y']\n",
    "y = [i for i in x if x.count(i)==1]\n",
    "y"
   ]
  },
  {
   "cell_type": "code",
   "execution_count": 62,
   "metadata": {},
   "outputs": [
    {
     "data": {
      "text/plain": [
       "['x', 'y']"
      ]
     },
     "execution_count": 62,
     "metadata": {},
     "output_type": "execute_result"
    }
   ],
   "source": [
    "\n",
    "unique(x)"
   ]
  },
  {
   "cell_type": "markdown",
   "metadata": {},
   "source": [
    "### Extracting Entires related to sepcific verb code"
   ]
  },
  {
   "cell_type": "code",
   "execution_count": 2,
   "metadata": {},
   "outputs": [
    {
     "data": {
      "text/plain": [
       "['--- عمل [---] ---',\n",
       " 'عمل                             # rush',\n",
       " 'سرع                             # rush',\n",
       " 'هرل                             # rush',\n",
       " 'أنطلق                           # rush',\n",
       " 'عجل                             # rush',\n",
       " 'هرع                             # rush',\n",
       " '- * &MILITARY   [154] # عمل_بسرعة,سرع,هرل,اِنْطلق_بِسُرْعة,عجل,هرع',\n",
       " '- * (ل حد) [154] # عمل_بسرعة,سرع,هرل,اِنْطلق_بِسُرْعة,عجل,هرع',\n",
       " '- * (إلى حد) [154] # عمل_بسرعة,سرع,هرل,اِنْطلق_بِسُرْعة,عجل,هرع',\n",
       " '- * معونة [070] # عمل_بسرعة,سرع,هرل,اِنْطلق_بِسُرْعة,عجل,هرع',\n",
       " '- * مساعدة [070] # عمل_بسرعة,سرع,هرل,اِنْطلق_بِسُرْعة,عجل,هرع',\n",
       " ' ',\n",
       " ' ',\n",
       " '--- اضاف [---] ---',\n",
       " 'اضاف                            # add',\n",
       " '- * (ل {الاحزاب الممنوعة}) [1722] # اضاف',\n",
       " ' ',\n",
       " ' ',\n",
       " '--- نبه [---] ---',\n",
       " 'نبه                             # alert',\n",
       " 'نذر                             # alert',\n",
       " 'حذر                             # alert',\n",
       " '- * &SECURITY (من {&WEAPON ATTACK})   [151]  # نبه,نذر,حذر',\n",
       " ' ',\n",
       " ' ',\n",
       " '--- راجع [---] ---',\n",
       " 'راجع                            # revise',\n",
       " '- * صفقة [031] # راجع',\n",
       " '- * دستور [0344] # راجع']"
      ]
     },
     "execution_count": 2,
     "metadata": {},
     "output_type": "execute_result"
    }
   ],
   "source": [
    "verbs = [] \n",
    "with open('untitled.txt' , 'r') as input_file:\n",
    "    for i in input_file : \n",
    "        verbs.append(i.replace('\\n' , ''))\n",
    "verbs = [i for i in verbs if i]\n",
    "verbs[:30]"
   ]
  },
  {
   "cell_type": "code",
   "execution_count": 97,
   "metadata": {},
   "outputs": [],
   "source": [
    "## helper methods\n",
    "def unique(sequence):\n",
    "    seen = set()\n",
    "    return [x for x in sequence if not (x in seen or seen.add(x))]\n",
    "\n",
    "def check_entry(entry, code) :\n",
    "    for i in entry : \n",
    "        ex_code = re.findall(\"\\[(.*?)\\]\", i)\n",
    "#         print('checking : {} | extracted_code : {} | tagert_code : {}'.format(i , ex_code, target_code))\n",
    "        if not ex_code : \n",
    "            continue\n",
    "        if ex_code[0].startswith(code) : \n",
    "#             print('it does')\n",
    "            return True\n",
    "    return False\n",
    "    \n",
    "def clean_entry(entry, code ) :  # returns entry with on roles that have the sepcific code \n",
    "    new_entry = [] \n",
    "    new_entry.append(entry[0])\n",
    "    for i in range(1, len(entry)) :\n",
    "        if entry[i].startswith('- *') : \n",
    "            ex_code = re.findall(\"\\[(.*?)\\]\", entry[i])\n",
    "            if not ex_code : \n",
    "                continue\n",
    "            if ex_code[0].startswith(code) : \n",
    "    #             print('it does')\n",
    "                new_entry.append(entry[i])\n",
    "        else : \n",
    "            new_entry.append(entry[i])\n",
    "    return new_entry\n",
    "        "
   ]
  },
  {
   "cell_type": "code",
   "execution_count": 92,
   "metadata": {},
   "outputs": [],
   "source": [
    "target_verbs = []\n",
    "target_code = '14'\n",
    "\n",
    "# for i in range\n",
    "cr = 0 \n",
    "while cr < len(verbs) : \n",
    "    entry = []\n",
    "    if verbs[cr][:3].strip() == '---' : \n",
    "        entry.append(verbs[cr])\n",
    "        cr+=1 \n",
    "#         print(verbs[cr][:3] , '| ',cr)\n",
    "#         tmp = []\n",
    "        while True:                    \n",
    "            entry.append(verbs[cr])\n",
    "            cr+=1 \n",
    "            if cr >= len(verbs ) or verbs[cr][:3].strip() == '---':\n",
    "                break\n",
    "        contains_verb = clean_entry(entry , target_code)\n",
    "#         print (unique(entry))\n",
    "        if contains_verb : \n",
    "            target_verbs.extend(unique(entry))\n",
    "            target_verbs.append(' ') # aesthetic stuff \n",
    "            target_verbs.append(' ')\n",
    "        break \n",
    "        \n",
    "            "
   ]
  },
  {
   "cell_type": "code",
   "execution_count": 87,
   "metadata": {},
   "outputs": [
    {
     "data": {
      "text/plain": [
       "1691"
      ]
     },
     "execution_count": 87,
     "metadata": {},
     "output_type": "execute_result"
    }
   ],
   "source": [
    "len(target_verbs)"
   ]
  },
  {
   "cell_type": "code",
   "execution_count": 88,
   "metadata": {},
   "outputs": [],
   "source": [
    "# outputting \n",
    "with open('verbs_assualt_only.txt' , 'w') as out : \n",
    "    for i in target_verbs : \n",
    "        out.write('{}\\n'.format(i))"
   ]
  },
  {
   "cell_type": "code",
   "execution_count": 93,
   "metadata": {},
   "outputs": [
    {
     "data": {
      "text/plain": [
       "['--- عمل [---] ---',\n",
       " 'عمل                             # rush',\n",
       " 'سرع                             # rush',\n",
       " 'هرل                             # rush',\n",
       " 'أنطلق                           # rush',\n",
       " 'عجل                             # rush',\n",
       " 'هرع                             # rush',\n",
       " '- * &MILITARY   [154] # عمل_بسرعة,سرع,هرل,اِنْطلق_بِسُرْعة,عجل,هرع',\n",
       " '- * (ل حد) [154] # عمل_بسرعة,سرع,هرل,اِنْطلق_بِسُرْعة,عجل,هرع',\n",
       " '- * (إلى حد) [154] # عمل_بسرعة,سرع,هرل,اِنْطلق_بِسُرْعة,عجل,هرع',\n",
       " '- * معونة [070] # عمل_بسرعة,سرع,هرل,اِنْطلق_بِسُرْعة,عجل,هرع',\n",
       " '- * مساعدة [070] # عمل_بسرعة,سرع,هرل,اِنْطلق_بِسُرْعة,عجل,هرع',\n",
       " ' ',\n",
       " ' ']"
      ]
     },
     "execution_count": 93,
     "metadata": {},
     "output_type": "execute_result"
    }
   ],
   "source": [
    "entry"
   ]
  },
  {
   "cell_type": "code",
   "execution_count": 98,
   "metadata": {},
   "outputs": [
    {
     "data": {
      "text/plain": [
       "['--- عمل [---] ---',\n",
       " 'عمل                             # rush',\n",
       " 'سرع                             # rush',\n",
       " 'هرل                             # rush',\n",
       " 'أنطلق                           # rush',\n",
       " 'عجل                             # rush',\n",
       " 'هرع                             # rush',\n",
       " '- * &MILITARY   [154] # عمل_بسرعة,سرع,هرل,اِنْطلق_بِسُرْعة,عجل,هرع',\n",
       " '- * (ل حد) [154] # عمل_بسرعة,سرع,هرل,اِنْطلق_بِسُرْعة,عجل,هرع',\n",
       " '- * (إلى حد) [154] # عمل_بسرعة,سرع,هرل,اِنْطلق_بِسُرْعة,عجل,هرع',\n",
       " ' ',\n",
       " ' ']"
      ]
     },
     "execution_count": 98,
     "metadata": {},
     "output_type": "execute_result"
    }
   ],
   "source": [
    "clean_entry(entry , '15')"
   ]
  },
  {
   "cell_type": "code",
   "execution_count": null,
   "metadata": {},
   "outputs": [],
   "source": []
  }
 ],
 "metadata": {
  "kernelspec": {
   "display_name": "Python 3",
   "language": "python",
   "name": "python3"
  },
  "language_info": {
   "codemirror_mode": {
    "name": "ipython",
    "version": 3
   },
   "file_extension": ".py",
   "mimetype": "text/x-python",
   "name": "python",
   "nbconvert_exporter": "python",
   "pygments_lexer": "ipython3",
   "version": "3.6.4"
  }
 },
 "nbformat": 4,
 "nbformat_minor": 2
}
