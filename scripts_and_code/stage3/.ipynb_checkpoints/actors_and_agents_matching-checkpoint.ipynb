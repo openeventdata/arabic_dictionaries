{
 "cells": [
  {
   "cell_type": "code",
   "execution_count": 1,
   "metadata": {},
   "outputs": [],
   "source": [
    "import jsonlines\n",
    "import re\n",
    "import requests\n",
    "import pyarabic.araby as araby"
   ]
  },
  {
   "cell_type": "markdown",
   "metadata": {},
   "source": [
    "### Preprocessing "
   ]
  },
  {
   "cell_type": "code",
   "execution_count": 2,
   "metadata": {},
   "outputs": [
    {
     "name": "stdout",
     "output_type": "stream",
     "text": [
      "'spans'\n",
      "'spans'\n",
      "'spans'\n",
      "'spans'\n",
      "'spans'\n",
      "'spans'\n",
      "'spans'\n",
      "'spans'\n",
      "'spans'\n",
      "'spans'\n"
     ]
    },
    {
     "data": {
      "text/plain": [
       "856"
      ]
     },
     "execution_count": 2,
     "metadata": {},
     "output_type": "execute_result"
    }
   ],
   "source": [
    "with jsonlines.open(\"highlight_assault.jsonl\", \"r\") as f:\n",
    "    assault = list(f.iter())\n",
    "\t\n",
    "def actor_spans(entry):\n",
    "    chunks = []\n",
    "    for s in entry['spans']:\n",
    "        if s['label'] in ['SOURCE_ACTOR', 'TARGET_ACTOR']:\n",
    "            chunk = entry['text'][s['start']:s['end']+1]\n",
    "            chunks.append(chunk)\n",
    "    return chunks\n",
    "            \n",
    "actor_spans(assault[55])\n",
    "\n",
    "all_chunks = []\n",
    "for entry in assault:\n",
    "    try:\n",
    "        c = actor_spans(entry)\n",
    "        if c:\n",
    "            all_chunks.extend(c)\n",
    "    except Exception as e:\n",
    "        print(e)\n",
    "\t\t\n",
    "        \n",
    "len(all_chunks)\n",
    "len(set(all_chunks))"
   ]
  },
  {
   "cell_type": "code",
   "execution_count": 3,
   "metadata": {},
   "outputs": [],
   "source": [
    "# Get data from udpipe\n",
    "def udpipe(string) :\n",
    "    # Prepping String \n",
    "    words  = re.findall(u'[\\u0600-\\u06FF]+', string) #getting arabic characters \n",
    "    data = ' '.join(words)\n",
    "    \n",
    "    pipe_base_url = 'http://lindat.mff.cuni.cz/services/udpipe/api/process?tokenizer&tagger' \n",
    "    attributes = {} \n",
    "    attributes['model'] = 'arabic-ud-2.0-170801'\n",
    "    attributes['data'] = data\n",
    "\n",
    "    data = requests.get(pipe_base_url , attributes)\n",
    "    result = data.json()['result'].split('\\n')\n",
    "    udpipe_results = [re.findall(u'[\\u0600-\\u06FF]+', i) for i in result] # cleaning \n",
    "    udpipe_results = [i for i in udpipe_results if i !=[]]\n",
    "    \n",
    "    return udpipe_results\n",
    "\n",
    "def udpipe_reconstruct(original_text) : \n",
    "    udpipe_results = udpipe(original_text)\n",
    "    for i in range(1, len(udpipe_results)):\n",
    "        if len(udpipe_results[i]) == 1 : # composite verbs get the next two words\n",
    "            original_text =original_text.replace(udpipe_results[i][0] , '{} {}'.format(udpipe_results[i+1][1],udpipe_results[i+2][1]))\n",
    "        else :\n",
    "            original_text =original_text.replace(udpipe_results[i][0] , udpipe_results[i][1])\n",
    "    original_text = araby.strip_tashkeel(original_text)\n",
    "    return original_text\n",
    "\n",
    "\n",
    "def master_reconstruct_input(text_input , input_type): \n",
    "    # type 0: none-rule just do just do udpipe_reconstruction\n",
    "    # type 1 : fix the rule + do udpipe_reconstruction\n",
    "    if input_type == 0:\n",
    "        return udpipe_reconstruct(text_input)\n",
    "    else : \n",
    "        return udpipe_reconstruct(rule(text_input))"
   ]
  },
  {
   "cell_type": "code",
   "execution_count": 8,
   "metadata": {},
   "outputs": [
    {
     "data": {
      "text/plain": [
       "['مهاجم انتحاري ',\n",
       " 'العراقيين ',\n",
       " 'قوة من الشرطة العراقية ',\n",
       " 'جنديا باكستانيا ',\n",
       " 'الجيش الأميركي ',\n",
       " 'مجهولين ',\n",
       " 'التحالف الدولي بقيادة الولايات المتحدة في افغانستان،',\n",
       " 'مقاتلي ',\n",
       " 'وكيل وزارة النفط العراقية عبد الجبار الوكاع ',\n",
       " 'المتشددين ']"
      ]
     },
     "execution_count": 8,
     "metadata": {},
     "output_type": "execute_result"
    }
   ],
   "source": [
    "chunks_unique = set(all_chunks)\n",
    "len(chunks_unique)\n",
    "list(chunks_unique)[:10]"
   ]
  },
  {
   "cell_type": "code",
   "execution_count": 5,
   "metadata": {},
   "outputs": [],
   "source": [
    "chunks_unique_udpipe = [] \n",
    "for i in chunks_unique : \n",
    "    chunks_unique_udpipe.append(master_reconstruct_input(i ,0))"
   ]
  },
  {
   "cell_type": "code",
   "execution_count": 6,
   "metadata": {},
   "outputs": [
    {
     "data": {
      "text/plain": [
       "856"
      ]
     },
     "execution_count": 6,
     "metadata": {},
     "output_type": "execute_result"
    }
   ],
   "source": [
    "len(chunks_unique_udpipe)"
   ]
  },
  {
   "cell_type": "code",
   "execution_count": 7,
   "metadata": {},
   "outputs": [
    {
     "data": {
      "text/plain": [
       "['مهاجم انتحاري ',\n",
       " 'عراقي ',\n",
       " 'قوة من شرطة عراقي ',\n",
       " 'جندي باكستانيا ',\n",
       " 'جيش أميركي ',\n",
       " 'مجهول ',\n",
       " 'تحالف دولي ب قيادة ولاية متحد في أفغانستان،',\n",
       " 'مقاتل ',\n",
       " 'وكيل وزارة نفط عراقي عبد الجبار الوكاع ',\n",
       " 'متشدد ']"
      ]
     },
     "execution_count": 7,
     "metadata": {},
     "output_type": "execute_result"
    }
   ],
   "source": [
    "list(chunks_unique_udpipe)[:10]"
   ]
  },
  {
   "cell_type": "code",
   "execution_count": 10,
   "metadata": {},
   "outputs": [],
   "source": [
    "with open('actors_txt_file.txt',  'w') as outputf :\n",
    "    outputf.write('<Sentences>\\n')\n",
    "    for i in range(len(chunks_unique_udpipe )): \n",
    "        outputf.write('<Sentence date = \"20000715\" id=\"{}\" source = \"afp\" sentence = \"True\">\\n'.format(i))\n",
    "        outputf.write('<Text>\\n{}\\n</Text>\\n'.format(chunks_unique_udpipe[i]))\n",
    "        outputf.write('</Sentence>\\n')\n",
    "    outputf.write('</Sentences>')\n"
   ]
  },
  {
   "cell_type": "markdown",
   "metadata": {},
   "source": [
    "### proprocess the actor_txt_file.txt using UP preprocessing, then run the actor_code_extraction code to get the following results \n",
    "\n",
    "#### each element is actors_results is a list of 3 elements : Sentence (original Text) [0] , Matched Text[1], Code[2] "
   ]
  },
  {
   "cell_type": "code",
   "execution_count": 2,
   "metadata": {},
   "outputs": [
    {
     "data": {
      "text/plain": [
       "[[' مهاجم انتحاري ', ' انتحاري', '~REB'],\n",
       " [' عراقي ', '---', '---'],\n",
       " [' قوة من شرطة عراقي ', ' شرطة عراقي', 'IRQCOP'],\n",
       " [' جندي باكستانيا ', '---', '---'],\n",
       " [' جيش أميركي ', '---', '---'],\n",
       " [' مجهول ', '---', '---'],\n",
       " [' تحالف دولي ب قيادة ولاية متحد في أفغانستان، ', ' ولاية متحد', 'USALEG'],\n",
       " [' مقاتل ', '---', '---'],\n",
       " [' وكيل وزارة نفط عراقي عبد الجبار الوكاع ', ' وزارة', 'GOV'],\n",
       " [' متشدد ', '---', '---']]"
      ]
     },
     "execution_count": 2,
     "metadata": {},
     "output_type": "execute_result"
    }
   ],
   "source": [
    "actors_results = [] \n",
    "with open('out_actors'  , 'r') as inputf: \n",
    "    for i in inputf : \n",
    "        actors_results.append(i.replace('\\n','').split(','))\n",
    "actors_results[:10]"
   ]
  },
  {
   "cell_type": "code",
   "execution_count": 8,
   "metadata": {},
   "outputs": [
    {
     "name": "stdout",
     "output_type": "stream",
     "text": [
      "Total Number of actors process : 856\n",
      "Extracted Actors with code : 223 | 0.2605140186915888%\n",
      "Extracted Actors with out code : 633 | 0.7394859813084113%\n"
     ]
    }
   ],
   "source": [
    "#Filter stuff \n",
    "extracted_actors_with_code = [] \n",
    "extracted_actors_with_out_code =[] \n",
    "\n",
    "for i in actors_results : \n",
    "    if i[2] != '---' : \n",
    "        extracted_actors_with_code.append(i)\n",
    "    else : \n",
    "        extracted_actors_with_out_code.append(i)\n",
    "\n",
    "print('Total Number of actors processed : {}'.format(len(actors_results)))\n",
    "print('Extracted Actors with code : {} | {}%'.format(len(extracted_actors_with_code) , len(extracted_actors_with_code)/len(actors_results)))\n",
    "print('Extracted Actors with out code : {} | {}%'.format(len(extracted_actors_with_out_code) , len(extracted_actors_with_out_code)/len(actors_results)))"
   ]
  },
  {
   "cell_type": "code",
   "execution_count": null,
   "metadata": {},
   "outputs": [],
   "source": []
  }
 ],
 "metadata": {
  "kernelspec": {
   "display_name": "Python 3",
   "language": "python",
   "name": "python3"
  },
  "language_info": {
   "codemirror_mode": {
    "name": "ipython",
    "version": 3
   },
   "file_extension": ".py",
   "mimetype": "text/x-python",
   "name": "python",
   "nbconvert_exporter": "python",
   "pygments_lexer": "ipython3",
   "version": "3.6.4"
  }
 },
 "nbformat": 4,
 "nbformat_minor": 2
}
