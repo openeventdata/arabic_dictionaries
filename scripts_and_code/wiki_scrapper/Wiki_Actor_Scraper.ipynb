{
 "cells": [
  {
   "cell_type": "code",
   "execution_count": 4,
   "metadata": {},
   "outputs": [],
   "source": [
    "import requests\n",
    "from bs4 import BeautifulSoup\n",
    "import re\n",
    "import urllib\n",
    "import json\n",
    "from datetime import datetime\n",
    "import dateutil.parser\n",
    "from bson import json_util\n"
   ]
  },
  {
   "cell_type": "code",
   "execution_count": null,
   "metadata": {
    "collapsed": true
   },
   "outputs": [],
   "source": []
  },
  {
   "cell_type": "code",
   "execution_count": 5,
   "metadata": {},
   "outputs": [],
   "source": [
    "#\"مادة ويكي بيانات\"\n",
    "# That's the \"Wikidata\" link"
   ]
  },
  {
   "cell_type": "code",
   "execution_count": 6,
   "metadata": {},
   "outputs": [],
   "source": [
    "list_link = \"https://en.wikipedia.org/wiki/Category:Government_ministers_of_Somalia\""
   ]
  },
  {
   "cell_type": "code",
   "execution_count": 3,
   "metadata": {},
   "outputs": [],
   "source": [
    "person = \"https://en.wikipedia.org/wiki/John_Kerry\"\n",
    "#person = \"https://ar.wikipedia.org/wiki/%D8%AC%D9%88%D9%86_%D9%83%D9%8A%D8%B1%D9%8A\""
   ]
  },
  {
   "cell_type": "code",
   "execution_count": 7,
   "metadata": {},
   "outputs": [],
   "source": [
    "def contains_month(text):\n",
    "    months_en = ['january ', 'february ', 'march ', 'april ', 'may ', 'june ', \n",
    "                  'july ', 'august ', 'september ', 'october ', 'november ', 'december ']\n",
    "    months_ar = [\"إبريل\",\"يناير\", \"فبراير\", \"مارس\", \"أبريل\", \"مايو\", \"يونية\", \"يونيو\",\n",
    "                \"يولية\", \"يوليو\", \"أغسطس\", \"سبتمبر\", \"أكتوبر\", \"نوفمبر\", \"ديسمبر\", \n",
    "                \"يناير\"]\n",
    "    for month in months_en:\n",
    "        if month in text.lower():\n",
    "            return True\n",
    "    return False\n",
    "\n",
    "def get_dates(i, results):\n",
    "    dates = []\n",
    "    while i < len(results):\n",
    "        results[i] = results[i].replace('\\xa0', '')\n",
    "        # check if date\n",
    "        index = results[i].find(' ')\n",
    "        if index == -1:\n",
    "            break\n",
    "        elif not contains_month(results[i]):\n",
    "            break\n",
    "        date_range = results[i]\n",
    "        if '–' in date_range:\n",
    "            date_range = date_range.split('–')\n",
    "            dates.append((date_range[0], date_range[1]))\n",
    "        else:\n",
    "            dates.append((date_range, None))\n",
    "        i += 1\n",
    "    return (dates, i)\n",
    "\n",
    "def format_wiki_links(lang):\n",
    "    lang_code = lang.find(\"a\")[\"hreflang\"]\n",
    "    wiki_link = lang.find(href=True)['href']\n",
    "    name = re.findall(\"wiki/(.+)\", wiki_link)[0]\n",
    "    name = re.sub(\"_\", \" \", name)\n",
    "    name = urllib.parse.unquote(name)\n",
    "\n",
    "    return {lang_code : {\"name\" : name,\n",
    "                        \"wiki_link\" : wiki_link}}\n",
    "\n",
    "def get_wiki_links(soup):\n",
    "    langs = soup.find_all(\"li\", {\"class\" : \"interlanguage-link\"})\n",
    "    alt_names = []\n",
    "    for i in langs:\n",
    "        t = format_wiki_links(i)\n",
    "        alt_names.append(t)\n",
    "    return alt_names\n",
    "\n",
    "\n",
    "def get_roles(soup):\n",
    "    table = soup.find('table', { 'class': 'infobox vcard' })     # <-- change for Arabic!\n",
    "    potential = table.find_all(['th', 'td', {'colspan' : '2'}])  # <-- change for Arabic!\n",
    "    results = []\n",
    "    for elem in potential:\n",
    "        if elem.name == 'th' and elem.has_attr('colspan'): # <-- change for Arabic!\n",
    "            results.append(elem.text)\n",
    "        elif '\\n' in elem.text and 'office' in elem.text: # <-- change for Arabic!\n",
    "            results.append(elem.text.splitlines()[1])\n",
    "    results = results[1:]    # Discard name\n",
    "    mapping = {}\n",
    "    i = 0\n",
    "    while i < len(results):\n",
    "        office = results[i]\n",
    "        i += 1\n",
    "        (dates, i) = get_dates(i, results)\n",
    "        mapping[office] = dates\n",
    "    mapping.pop('Personal details', None)\n",
    "    mapping.pop('Military service', None)\n",
    "\n",
    "    roles = []\n",
    "    for title in mapping.keys():\n",
    "        for period in mapping[title]:\n",
    "            if period[0] and period[1]:\n",
    "                start_date = period[0]\n",
    "                end_date = period[1]\n",
    "            elif not period[1]:\n",
    "                start_date = period[0]\n",
    "                end_date = \"\"\n",
    "            try:\n",
    "                start_date = dateutil.parser.parse(start_date)\n",
    "            except ValueError:\n",
    "                start_date = None\n",
    "            try:\n",
    "                end_date = dateutil.parser.parse(end_date)\n",
    "            except ValueError:\n",
    "                end_date = None\n",
    "            entry = {\"title\" : title,\n",
    "                        \"start_date\" : start_date,\n",
    "                        \"end_date\" : end_date}\n",
    "\n",
    "            roles.append(entry)\n",
    "    return roles\n",
    "\n",
    "def get_wikidata_id(soup):\n",
    "    wikidata = soup.find(\"li\", {\"id\" : \"t-wikibase\"}).find(href=True)['href']\n",
    "    wikidata_id = re.findall(\"Page/(.+)\", wikidata)\n",
    "    return wikidata_id"
   ]
  },
  {
   "cell_type": "code",
   "execution_count": 9,
   "metadata": {},
   "outputs": [],
   "source": [
    "def page_to_data(page):\n",
    "    \"\"\"Only works for people probably, not orgs...\"\"\"\n",
    "    p_page = requests.get(page)\n",
    "    soup = BeautifulSoup(p_page.content, \"lxml\")\n",
    "    wikidata_id = get_wikidata_id(soup)\n",
    "    roles = get_roles(soup)\n",
    "    wiki_pages = get_wiki_links(soup)\n",
    "\n",
    "\n",
    "    entry = {\"wiki_pages\" : wiki_pages,\n",
    "            \"scrape_date\" : str(datetime.now()),\n",
    "            \"wikidata_id\" : wikidata_id,\n",
    "            \"wiki_roles\" : {\"en\" : roles},\n",
    "            \"cameo_coding\" : []\n",
    "            }\n",
    "    \n",
    "    return entry\n",
    "    \n",
    "\n",
    "hadi = page_to_data(\"https://en.wikipedia.org/wiki/Abdrabbuh_Mansur_Hadi\")"
   ]
  },
  {
   "cell_type": "code",
   "execution_count": 8,
   "metadata": {},
   "outputs": [
    {
     "ename": "NameError",
     "evalue": "name 'hadi' is not defined",
     "output_type": "error",
     "traceback": [
      "\u001b[0;31m---------------------------------------------------------------------------\u001b[0m",
      "\u001b[0;31mNameError\u001b[0m                                 Traceback (most recent call last)",
      "\u001b[0;32m<ipython-input-8-b5f4392823ea>\u001b[0m in \u001b[0;36m<module>\u001b[0;34m()\u001b[0m\n\u001b[0;32m----> 1\u001b[0;31m \u001b[0mhadi\u001b[0m\u001b[0;34m\u001b[0m\u001b[0m\n\u001b[0m",
      "\u001b[0;31mNameError\u001b[0m: name 'hadi' is not defined"
     ]
    }
   ],
   "source": [
    "hadi"
   ]
  },
  {
   "cell_type": "code",
   "execution_count": 9,
   "metadata": {
    "scrolled": true
   },
   "outputs": [
    {
     "data": {
      "text/plain": [
       "'{\"wiki_pages\": [{\"ar\": {\"name\": \"\\\\u0639\\\\u0628\\\\u062f \\\\u0631\\\\u0628\\\\u0647 \\\\u0645\\\\u0646\\\\u0635\\\\u0648\\\\u0631 \\\\u0647\\\\u0627\\\\u062f\\\\u064a\", \"wiki_link\": \"https://ar.wikipedia.org/wiki/%D8%B9%D8%A8%D8%AF_%D8%B1%D8%A8%D9%87_%D9%85%D9%86%D8%B5%D9%88%D8%B1_%D9%87%D8%A7%D8%AF%D9%8A\"}}, {\"azb\": {\"name\": \"\\\\u0639\\\\u0628\\\\u062f \\\\u0631\\\\u0628\\\\u0647 \\\\u0645\\\\u0646\\\\u0635\\\\u0648\\\\u0631 \\\\u0647\\\\u0627\\\\u062f\\\\u06cc\", \"wiki_link\": \"https://azb.wikipedia.org/wiki/%D8%B9%D8%A8%D8%AF_%D8%B1%D8%A8%D9%87_%D9%85%D9%86%D8%B5%D9%88%D8%B1_%D9%87%D8%A7%D8%AF%DB%8C\"}}, {\"bn\": {\"name\": \"\\\\u0986\\\\u09ac\\\\u09cd\\\\u09a6\\\\u09b0\\\\u09be\\\\u09ac\\\\u09cd\\\\u09ac\\\\u09c1\\\\u09b9 \\\\u09ae\\\\u09be\\\\u09a8\\\\u09b8\\\\u09c1\\\\u09b0 \\\\u09b9\\\\u09be\\\\u09a6\\\\u09bf\", \"wiki_link\": \"https://bn.wikipedia.org/wiki/%E0%A6%86%E0%A6%AC%E0%A7%8D%E0%A6%A6%E0%A6%B0%E0%A6%BE%E0%A6%AC%E0%A7%8D%E0%A6%AC%E0%A7%81%E0%A6%B9_%E0%A6%AE%E0%A6%BE%E0%A6%A8%E0%A6%B8%E0%A7%81%E0%A6%B0_%E0%A6%B9%E0%A6%BE%E0%A6%A6%E0%A6%BF\"}}, {\"be\": {\"name\": \"\\\\u0410\\\\u0431\\\\u0434 \\\\u0420\\\\u0430\\\\u0431\\\\u0443 \\\\u041c\\\\u0430\\\\u043d\\\\u0441\\\\u0443\\\\u0440 \\\\u0430\\\\u043b\\\\u044c-\\\\u0425\\\\u0430\\\\u0434\\\\u0437\\\\u0456\", \"wiki_link\": \"https://be.wikipedia.org/wiki/%D0%90%D0%B1%D0%B4_%D0%A0%D0%B0%D0%B1%D1%83_%D0%9C%D0%B0%D0%BD%D1%81%D1%83%D1%80_%D0%B0%D0%BB%D1%8C-%D0%A5%D0%B0%D0%B4%D0%B7%D1%96\"}}, {\"cs\": {\"name\": \"Abd Rab\\\\u00fa Mans\\\\u00far H\\\\u00e1d\\\\u00ed\", \"wiki_link\": \"https://cs.wikipedia.org/wiki/Abd_Rab%C3%BA_Mans%C3%BAr_H%C3%A1d%C3%AD\"}}, {\"da\": {\"name\": \"Abd Rabbuh Mansur Hadi\", \"wiki_link\": \"https://da.wikipedia.org/wiki/Abd_Rabbuh_Mansur_Hadi\"}}, {\"de\": {\"name\": \"Abed Rabbo Mansur Hadi\", \"wiki_link\": \"https://de.wikipedia.org/wiki/Abed_Rabbo_Mansur_Hadi\"}}, {\"et\": {\"name\": \"\\\\u2018Abd Rabbuh Man\\\\u015f\\\\u016br al-H\\\\u0101d\\\\u012b\", \"wiki_link\": \"https://et.wikipedia.org/wiki/%E2%80%98Abd_Rabbuh_Man%C5%9F%C5%ABr_al-H%C4%81d%C4%AB\"}}, {\"el\": {\"name\": \"\\\\u0391\\\\u03bc\\\\u03c0\\\\u03bd\\\\u03c4 \\\\u03b1\\\\u03bb-\\\\u03a1\\\\u03b1\\\\u03bc\\\\u03c0 \\\\u039c\\\\u03b1\\\\u03bd\\\\u03c3\\\\u03bf\\\\u03cd\\\\u03c1 \\\\u03b1\\\\u03bb-\\\\u03a7\\\\u03b1\\\\u03bd\\\\u03c4\\\\u03af\", \"wiki_link\": \"https://el.wikipedia.org/wiki/%CE%91%CE%BC%CF%80%CE%BD%CF%84_%CE%B1%CE%BB-%CE%A1%CE%B1%CE%BC%CF%80_%CE%9C%CE%B1%CE%BD%CF%83%CE%BF%CF%8D%CF%81_%CE%B1%CE%BB-%CE%A7%CE%B1%CE%BD%CF%84%CE%AF\"}}, {\"es\": {\"name\": \"Abd Rabbuh Mansur al-Hadi\", \"wiki_link\": \"https://es.wikipedia.org/wiki/Abd_Rabbuh_Mansur_al-Hadi\"}}, {\"fa\": {\"name\": \"\\\\u0639\\\\u0628\\\\u062f\\\\u0631\\\\u0628\\\\u0647 \\\\u0645\\\\u0646\\\\u0635\\\\u0648\\\\u0631 \\\\u0647\\\\u0627\\\\u062f\\\\u06cc\", \"wiki_link\": \"https://fa.wikipedia.org/wiki/%D8%B9%D8%A8%D8%AF%D8%B1%D8%A8%D9%87_%D9%85%D9%86%D8%B5%D9%88%D8%B1_%D9%87%D8%A7%D8%AF%DB%8C\"}}, {\"fr\": {\"name\": \"Abdrabbo Mansour Hadi\", \"wiki_link\": \"https://fr.wikipedia.org/wiki/Abdrabbo_Mansour_Hadi\"}}, {\"ko\": {\"name\": \"\\\\uc555\\\\ub4dc\\\\ub77c\\\\ubcf4 \\\\ub9cc\\\\uc218\\\\ub974 \\\\ud558\\\\ub514\", \"wiki_link\": \"https://ko.wikipedia.org/wiki/%EC%95%95%EB%93%9C%EB%9D%BC%EB%B3%B4_%EB%A7%8C%EC%88%98%EB%A5%B4_%ED%95%98%EB%94%94\"}}, {\"hr\": {\"name\": \"Abd Rabuh Mansur Hadi\", \"wiki_link\": \"https://hr.wikipedia.org/wiki/Abd_Rabuh_Mansur_Hadi\"}}, {\"id\": {\"name\": \"Abd Rabbuh Mansur Hadi\", \"wiki_link\": \"https://id.wikipedia.org/wiki/Abd_Rabbuh_Mansur_Hadi\"}}, {\"it\": {\"name\": \"\\'Abd Rabbih Mansur Hadi\", \"wiki_link\": \"https://it.wikipedia.org/wiki/%27Abd_Rabbih_Mansur_Hadi\"}}, {\"he\": {\"name\": \"\\\\u05e2\\\\u05d1\\\\u05d3 \\\\u05e8\\\\u05d1\\\\u05d5 \\\\u05de\\\\u05e0\\\\u05e1\\\\u05d5\\\\u05e8 \\\\u05d4\\\\u05d0\\\\u05d3\\\\u05d9\", \"wiki_link\": \"https://he.wikipedia.org/wiki/%D7%A2%D7%91%D7%93_%D7%A8%D7%91%D7%95_%D7%9E%D7%A0%D7%A1%D7%95%D7%A8_%D7%94%D7%90%D7%93%D7%99\"}}, {\"ka\": {\"name\": \"\\\\u10d0\\\\u10d1\\\\u10d3 \\\\u10e0\\\\u10d0\\\\u10d1\\\\u10e3\\\\u10f0 \\\\u10db\\\\u10d0\\\\u10dc\\\\u10e1\\\\u10e3\\\\u10e0 \\\\u10d0\\\\u10da-\\\\u10f0\\\\u10d0\\\\u10d3\\\\u10d8\", \"wiki_link\": \"https://ka.wikipedia.org/wiki/%E1%83%90%E1%83%91%E1%83%93_%E1%83%A0%E1%83%90%E1%83%91%E1%83%A3%E1%83%B0_%E1%83%9B%E1%83%90%E1%83%9C%E1%83%A1%E1%83%A3%E1%83%A0_%E1%83%90%E1%83%9A-%E1%83%B0%E1%83%90%E1%83%93%E1%83%98\"}}, {\"la\": {\"name\": \"Abd Rabbuh Man\\\\u1e63\\\\u016br H\\\\u0101d\\\\u012b\", \"wiki_link\": \"https://la.wikipedia.org/wiki/Abd_Rabbuh_Man%E1%B9%A3%C5%ABr_H%C4%81d%C4%AB\"}}, {\"lb\": {\"name\": \"Abed Rabbo Mansur Hadi\", \"wiki_link\": \"https://lb.wikipedia.org/wiki/Abed_Rabbo_Mansur_Hadi\"}}, {\"mr\": {\"name\": \"\\\\u0905\\\\u092c\\\\u094d\\\\u0926\\\\u094d\\\\u0930\\\\u092c\\\\u092c\\\\u0941\\\\u0939 \\\\u092e\\\\u0928\\\\u094d\\\\u0938\\\\u0942\\\\u0930 \\\\u0939\\\\u0926\\\\u0940\", \"wiki_link\": \"https://mr.wikipedia.org/wiki/%E0%A4%85%E0%A4%AC%E0%A5%8D%E0%A4%A6%E0%A5%8D%E0%A4%B0%E0%A4%AC%E0%A4%AC%E0%A5%81%E0%A4%B9_%E0%A4%AE%E0%A4%A8%E0%A5%8D%E0%A4%B8%E0%A5%82%E0%A4%B0_%E0%A4%B9%E0%A4%A6%E0%A5%80\"}}, {\"arz\": {\"name\": \"\\\\u0639\\\\u0628\\\\u062f \\\\u0631\\\\u0628\\\\u0647 \\\\u0647\\\\u0627\\\\u062f\\\\u0649 \\\\u0645\\\\u0646\\\\u0635\\\\u0648\\\\u0631\", \"wiki_link\": \"https://arz.wikipedia.org/wiki/%D8%B9%D8%A8%D8%AF_%D8%B1%D8%A8%D9%87_%D9%87%D8%A7%D8%AF%D9%89_%D9%85%D9%86%D8%B5%D9%88%D8%B1\"}}, {\"mzn\": {\"name\": \"\\\\u0645\\\\u0646\\\\u0635\\\\u0648\\\\u0631 \\\\u0647\\\\u0627\\\\u062f\\\\u06cc\", \"wiki_link\": \"https://mzn.wikipedia.org/wiki/%D9%85%D9%86%D8%B5%D9%88%D8%B1_%D9%87%D8%A7%D8%AF%DB%8C\"}}, {\"ms\": {\"name\": \"Abd Rabbuh Mansur Al-Hadi\", \"wiki_link\": \"https://ms.wikipedia.org/wiki/Abd_Rabbuh_Mansur_Al-Hadi\"}}, {\"nl\": {\"name\": \"Abd Rabbuh Mansur Al-Hadi\", \"wiki_link\": \"https://nl.wikipedia.org/wiki/Abd_Rabbuh_Mansur_Al-Hadi\"}}, {\"ja\": {\"name\": \"\\\\u30a2\\\\u30d6\\\\u30c9\\\\u30fb\\\\u30e9\\\\u30c3\\\\u30dc\\\\u30fb\\\\u30de\\\\u30f3\\\\u30b9\\\\u30fc\\\\u30eb\\\\u30fb\\\\u30cf\\\\u30fc\\\\u30c7\\\\u30a3\\\\u30fc\", \"wiki_link\": \"https://ja.wikipedia.org/wiki/%E3%82%A2%E3%83%96%E3%83%89%E3%83%BB%E3%83%A9%E3%83%83%E3%83%9C%E3%83%BB%E3%83%9E%E3%83%B3%E3%82%B9%E3%83%BC%E3%83%AB%E3%83%BB%E3%83%8F%E3%83%BC%E3%83%87%E3%82%A3%E3%83%BC\"}}, {\"no\": {\"name\": \"\\\\u02bfAbd Rabuh Mansur Hadi\", \"wiki_link\": \"https://no.wikipedia.org/wiki/%CA%BFAbd_Rabuh_Mansur_Hadi\"}}, {\"oc\": {\"name\": \"Abd Raboh Mansor Al-Hadi\", \"wiki_link\": \"https://oc.wikipedia.org/wiki/Abd_Raboh_Mansor_Al-Hadi\"}}, {\"pl\": {\"name\": \"Abd Rabbuh Mansur Hadi\", \"wiki_link\": \"https://pl.wikipedia.org/wiki/Abd_Rabbuh_Mansur_Hadi\"}}, {\"pt\": {\"name\": \"Abd Rabbuh Mansur Al-Hadi\", \"wiki_link\": \"https://pt.wikipedia.org/wiki/Abd_Rabbuh_Mansur_Al-Hadi\"}}, {\"ro\": {\"name\": \"Abd Rabbuh Mansur Hadi\", \"wiki_link\": \"https://ro.wikipedia.org/wiki/Abd_Rabbuh_Mansur_Hadi\"}}, {\"ru\": {\"name\": \"\\\\u0425\\\\u0430\\\\u0434\\\\u0438, \\\\u0410\\\\u0431\\\\u0434-\\\\u0420\\\\u0430\\\\u0431\\\\u0431\\\\u0443 \\\\u041c\\\\u0430\\\\u043d\\\\u0441\\\\u0443\\\\u0440\", \"wiki_link\": \"https://ru.wikipedia.org/wiki/%D0%A5%D0%B0%D0%B4%D0%B8,_%D0%90%D0%B1%D0%B4-%D0%A0%D0%B0%D0%B1%D0%B1%D1%83_%D0%9C%D0%B0%D0%BD%D1%81%D1%83%D1%80\"}}, {\"sco\": {\"name\": \"Abd Rabbuh Mansur Hadi\", \"wiki_link\": \"https://sco.wikipedia.org/wiki/Abd_Rabbuh_Mansur_Hadi\"}}, {\"simple\": {\"name\": \"Abd Rabbuh Mansur Hadi\", \"wiki_link\": \"https://simple.wikipedia.org/wiki/Abd_Rabbuh_Mansur_Hadi\"}}, {\"sr\": {\"name\": \"\\\\u0410\\\\u0431\\\\u0434 \\\\u0420\\\\u0430\\\\u0431\\\\u043e \\\\u041c\\\\u0430\\\\u043d\\\\u0441\\\\u0443\\\\u0440 \\\\u0435\\\\u043b \\\\u0425\\\\u0430\\\\u0434\\\\u0438\", \"wiki_link\": \"https://sr.wikipedia.org/wiki/%D0%90%D0%B1%D0%B4_%D0%A0%D0%B0%D0%B1%D0%BE_%D0%9C%D0%B0%D0%BD%D1%81%D1%83%D1%80_%D0%B5%D0%BB_%D0%A5%D0%B0%D0%B4%D0%B8\"}}, {\"sh\": {\"name\": \"Abd al-Rab Mansur al-Hadi\", \"wiki_link\": \"https://sh.wikipedia.org/wiki/Abd_al-Rab_Mansur_al-Hadi\"}}, {\"fi\": {\"name\": \"Abdrabuh Mansur Hadi\", \"wiki_link\": \"https://fi.wikipedia.org/wiki/Abdrabuh_Mansur_Hadi\"}}, {\"sv\": {\"name\": \"Abd Rabu Mansur Hadi\", \"wiki_link\": \"https://sv.wikipedia.org/wiki/Abd_Rabu_Mansur_Hadi\"}}, {\"tl\": {\"name\": \"Abd Rabbuh Mansur Hadi\", \"wiki_link\": \"https://tl.wikipedia.org/wiki/Abd_Rabbuh_Mansur_Hadi\"}}, {\"tr\": {\"name\": \"Abdurabbu Mansur el-Hadi\", \"wiki_link\": \"https://tr.wikipedia.org/wiki/Abdurabbu_Mansur_el-Hadi\"}}, {\"uk\": {\"name\": \"\\\\u0410\\\\u0431\\\\u0434 \\\\u0420\\\\u0430\\\\u0431\\\\u0431\\\\u043e \\\\u041c\\\\u0430\\\\u043d\\\\u0441\\\\u0443\\\\u0440 \\\\u0413\\\\u0430\\\\u0434\\\\u0456\", \"wiki_link\": \"https://uk.wikipedia.org/wiki/%D0%90%D0%B1%D0%B4_%D0%A0%D0%B0%D0%B1%D0%B1%D0%BE_%D0%9C%D0%B0%D0%BD%D1%81%D1%83%D1%80_%D0%93%D0%B0%D0%B4%D1%96\"}}, {\"ur\": {\"name\": \"\\\\u0639\\\\u0628\\\\u062f \\\\u0627\\\\u0644\\\\u0631\\\\u062d\\\\u0645\\\\u0627\\\\u0646 \\\\u0645\\\\u0646\\\\u0635\\\\u0648\\\\u0631 \\\\u0627\\\\u0644\\\\u06c1\\\\u0627\\\\u062f\\\\u06cc\", \"wiki_link\": \"https://ur.wikipedia.org/wiki/%D8%B9%D8%A8%D8%AF_%D8%A7%D9%84%D8%B1%D8%AD%D9%85%D8%A7%D9%86_%D9%85%D9%86%D8%B5%D9%88%D8%B1_%D8%A7%D9%84%DB%81%D8%A7%D8%AF%DB%8C\"}}, {\"vi\": {\"name\": \"Abd Rabbuh Mansur Hadi\", \"wiki_link\": \"https://vi.wikipedia.org/wiki/Abd_Rabbuh_Mansur_Hadi\"}}, {\"yo\": {\"name\": \"Abd al-Rab Mansur al-Hadi\", \"wiki_link\": \"https://yo.wikipedia.org/wiki/Abd_al-Rab_Mansur_al-Hadi\"}}, {\"zh\": {\"name\": \"\\\\u963f\\\\u535c\\\\u675c\\\\u62c9\\\\u5e03\\\\u00b7\\\\u66fc\\\\u82cf\\\\u5c14\\\\u00b7\\\\u54c8\\\\u8fea\", \"wiki_link\": \"https://zh.wikipedia.org/wiki/%E9%98%BF%E5%8D%9C%E6%9D%9C%E6%8B%89%E5%B8%83%C2%B7%E6%9B%BC%E8%8B%8F%E5%B0%94%C2%B7%E5%93%88%E8%BF%AA\"}}], \"scrape_date\": \"2017-12-02 20:57:50.655326\", \"wikidata_id\": [\"Q57480\"], \"wiki_roles\": {\"en\": [{\"title\": \"2nd President of Yemen\", \"start_date\": {\"$date\": 1330300800000}, \"end_date\": null}, {\"title\": \"2nd President of Yemen\", \"start_date\": {\"$date\": 1307145600000}, \"end_date\": {\"$date\": 1316736000000}}, {\"title\": \"Vice President of Yemen\", \"start_date\": {\"$date\": 781142400000}, \"end_date\": {\"$date\": 1330300800000}}]}, \"cameo_coding\": []}'"
      ]
     },
     "execution_count": 9,
     "metadata": {},
     "output_type": "execute_result"
    }
   ],
   "source": [
    "json.dumps(hadi, default=json_util.default)"
   ]
  },
  {
   "cell_type": "code",
   "execution_count": 10,
   "metadata": {},
   "outputs": [
    {
     "ename": "AttributeError",
     "evalue": "'str' object has no attribute 'descendants'",
     "output_type": "error",
     "traceback": [
      "\u001b[0;31m---------------------------------------------------------------------------\u001b[0m",
      "\u001b[0;31mAttributeError\u001b[0m                            Traceback (most recent call last)",
      "\u001b[0;32m<ipython-input-10-5b8c4326dfa0>\u001b[0m in \u001b[0;36m<module>\u001b[0;34m()\u001b[0m\n\u001b[0;32m----> 1\u001b[0;31m \u001b[0mroles\u001b[0m \u001b[0;34m=\u001b[0m \u001b[0mBeautifulSoup\u001b[0m\u001b[0;34m.\u001b[0m\u001b[0mfind_all\u001b[0m\u001b[0;34m(\u001b[0m\u001b[0;34m\"th\"\u001b[0m\u001b[0;34m,\u001b[0m \u001b[0;34m{\u001b[0m\u001b[0;34m\"style\"\u001b[0m \u001b[0;34m:\u001b[0m \u001b[0;34m\"text-align:center;background:lavender\"\u001b[0m\u001b[0;34m}\u001b[0m\u001b[0;34m)\u001b[0m\u001b[0;34m\u001b[0m\u001b[0m\n\u001b[0m\u001b[1;32m      2\u001b[0m \u001b[0;32mfor\u001b[0m \u001b[0mr\u001b[0m \u001b[0;32min\u001b[0m \u001b[0mroles\u001b[0m\u001b[0;34m:\u001b[0m\u001b[0;34m\u001b[0m\u001b[0m\n\u001b[1;32m      3\u001b[0m     \u001b[0mprint\u001b[0m\u001b[0;34m(\u001b[0m\u001b[0mr\u001b[0m\u001b[0;34m.\u001b[0m\u001b[0mtext\u001b[0m\u001b[0;34m)\u001b[0m\u001b[0;34m\u001b[0m\u001b[0m\n\u001b[1;32m      4\u001b[0m \u001b[0;34m\u001b[0m\u001b[0m\n\u001b[1;32m      5\u001b[0m \u001b[0mdates\u001b[0m \u001b[0;34m=\u001b[0m \u001b[0msoup\u001b[0m\u001b[0;34m.\u001b[0m\u001b[0mfind_all\u001b[0m\u001b[0;34m(\u001b[0m\u001b[0;34m\"td\"\u001b[0m\u001b[0;34m,\u001b[0m \u001b[0;34m{\u001b[0m\u001b[0;34m\"style\"\u001b[0m \u001b[0;34m:\u001b[0m \u001b[0;34m\"text-align:center;border-bottom:none\"\u001b[0m\u001b[0;34m}\u001b[0m\u001b[0;34m)\u001b[0m\u001b[0;34m\u001b[0m\u001b[0m\n",
      "\u001b[0;32m/usr/local/lib/python3.6/site-packages/bs4/element.py\u001b[0m in \u001b[0;36mfind_all\u001b[0;34m(self, name, attrs, recursive, text, limit, **kwargs)\u001b[0m\n\u001b[1;32m   1308\u001b[0m         same is true of the tag name.\"\"\"\n\u001b[1;32m   1309\u001b[0m \u001b[0;34m\u001b[0m\u001b[0m\n\u001b[0;32m-> 1310\u001b[0;31m         \u001b[0mgenerator\u001b[0m \u001b[0;34m=\u001b[0m \u001b[0mself\u001b[0m\u001b[0;34m.\u001b[0m\u001b[0mdescendants\u001b[0m\u001b[0;34m\u001b[0m\u001b[0m\n\u001b[0m\u001b[1;32m   1311\u001b[0m         \u001b[0;32mif\u001b[0m \u001b[0;32mnot\u001b[0m \u001b[0mrecursive\u001b[0m\u001b[0;34m:\u001b[0m\u001b[0;34m\u001b[0m\u001b[0m\n\u001b[1;32m   1312\u001b[0m             \u001b[0mgenerator\u001b[0m \u001b[0;34m=\u001b[0m \u001b[0mself\u001b[0m\u001b[0;34m.\u001b[0m\u001b[0mchildren\u001b[0m\u001b[0;34m\u001b[0m\u001b[0m\n",
      "\u001b[0;31mAttributeError\u001b[0m: 'str' object has no attribute 'descendants'"
     ]
    }
   ],
   "source": [
    "roles = BeautifulSoup.find_all(\"th\", {\"style\" : \"text-align:center;background:lavender\"})\n",
    "for r in roles:\n",
    "    print(r.text)\n",
    "    \n",
    "dates = soup.find_all(\"td\", {\"style\" : \"text-align:center;border-bottom:none\"})\n",
    "\n",
    "date_list = []\n",
    "for d in dates:\n",
    "    dt = re.sub(\"In office\", \"\", d.text).strip()\n",
    "    date_list.append(dt)\n",
    "\n",
    "date_list "
   ]
  },
  {
   "cell_type": "code",
   "execution_count": 14,
   "metadata": {},
   "outputs": [
    {
     "ename": "AttributeError",
     "evalue": "'str' object has no attribute 'find_all'",
     "output_type": "error",
     "traceback": [
      "\u001b[0;31m---------------------------------------------------------------------------\u001b[0m",
      "\u001b[0;31mAttributeError\u001b[0m                            Traceback (most recent call last)",
      "\u001b[0;32m<ipython-input-14-015437d7b8d1>\u001b[0m in \u001b[0;36m<module>\u001b[0;34m()\u001b[0m\n\u001b[1;32m      1\u001b[0m \u001b[0;31m# Some Arabic experimentation\u001b[0m\u001b[0;34m\u001b[0m\u001b[0;34m\u001b[0m\u001b[0m\n\u001b[1;32m      2\u001b[0m \u001b[0;31m# (Not working yet)\u001b[0m\u001b[0;34m\u001b[0m\u001b[0;34m\u001b[0m\u001b[0m\n\u001b[0;32m----> 3\u001b[0;31m \u001b[0mtable\u001b[0m \u001b[0;34m=\u001b[0m \u001b[0mBeautifulSoup\u001b[0m\u001b[0;34m.\u001b[0m\u001b[0mfind\u001b[0m\u001b[0;34m(\u001b[0m\u001b[0;34m'table'\u001b[0m\u001b[0;34m,\u001b[0m \u001b[0;34m{\u001b[0m \u001b[0;34m'class'\u001b[0m\u001b[0;34m:\u001b[0m \u001b[0;34m'infobox_v2 plainlist'\u001b[0m \u001b[0;34m}\u001b[0m\u001b[0;34m)\u001b[0m\u001b[0;34m\u001b[0m\u001b[0m\n\u001b[0m\u001b[1;32m      4\u001b[0m \u001b[0;34m\u001b[0m\u001b[0m\n\u001b[1;32m      5\u001b[0m \u001b[0;34m\u001b[0m\u001b[0m\n",
      "\u001b[0;32m/usr/local/lib/python3.6/site-packages/bs4/element.py\u001b[0m in \u001b[0;36mfind\u001b[0;34m(self, name, attrs, recursive, text, **kwargs)\u001b[0m\n\u001b[1;32m   1290\u001b[0m         criteria.\"\"\"\n\u001b[1;32m   1291\u001b[0m         \u001b[0mr\u001b[0m \u001b[0;34m=\u001b[0m \u001b[0;32mNone\u001b[0m\u001b[0;34m\u001b[0m\u001b[0m\n\u001b[0;32m-> 1292\u001b[0;31m         \u001b[0ml\u001b[0m \u001b[0;34m=\u001b[0m \u001b[0mself\u001b[0m\u001b[0;34m.\u001b[0m\u001b[0mfind_all\u001b[0m\u001b[0;34m(\u001b[0m\u001b[0mname\u001b[0m\u001b[0;34m,\u001b[0m \u001b[0mattrs\u001b[0m\u001b[0;34m,\u001b[0m \u001b[0mrecursive\u001b[0m\u001b[0;34m,\u001b[0m \u001b[0mtext\u001b[0m\u001b[0;34m,\u001b[0m \u001b[0;36m1\u001b[0m\u001b[0;34m,\u001b[0m \u001b[0;34m**\u001b[0m\u001b[0mkwargs\u001b[0m\u001b[0;34m)\u001b[0m\u001b[0;34m\u001b[0m\u001b[0m\n\u001b[0m\u001b[1;32m   1293\u001b[0m         \u001b[0;32mif\u001b[0m \u001b[0ml\u001b[0m\u001b[0;34m:\u001b[0m\u001b[0;34m\u001b[0m\u001b[0m\n\u001b[1;32m   1294\u001b[0m             \u001b[0mr\u001b[0m \u001b[0;34m=\u001b[0m \u001b[0ml\u001b[0m\u001b[0;34m[\u001b[0m\u001b[0;36m0\u001b[0m\u001b[0;34m]\u001b[0m\u001b[0;34m\u001b[0m\u001b[0m\n",
      "\u001b[0;31mAttributeError\u001b[0m: 'str' object has no attribute 'find_all'"
     ]
    }
   ],
   "source": [
    "# Some Arabic experimentation \n",
    "# (Not working yet)\n",
    "table = BeautifulSoup.find('table', { 'class': 'infobox_v2 plainlist' })\n",
    "\n",
    "\n",
    "#potential = table.find_all(['th', 'td', {'colspan' : '2'}])\n",
    "potential = table.find_all(['tr', 'th', {'colspan' : '2'}])\n",
    "\n",
    "results = []\n",
    "\n",
    "# en\n",
    "#for elem in potential:\n",
    "#    if elem.name == 'th' and elem.has_attr('colspan'):\n",
    "#        results.append(elem.text)\n",
    "#    elif '\\n' in elem.text and 'office' in elem.text:\n",
    "#        results.append(elem.text.splitlines()[1])\n",
    "\n",
    "for elem in potential:\n",
    "    if elem.name == 'th' and elem.has_attr('colspan'):\n",
    "        results.append(elem.text)\n",
    "    elif '\\n' in elem.text and 'في المنصب' in elem.text:\n",
    "        results.append(elem.text.splitlines()[1])\n",
    "\n",
    "results"
   ]
  },
  {
   "cell_type": "code",
   "execution_count": null,
   "metadata": {},
   "outputs": [],
   "source": []
  },
  {
   "cell_type": "code",
   "execution_count": null,
   "metadata": {},
   "outputs": [],
   "source": []
  },
  {
   "cell_type": "code",
   "execution_count": null,
   "metadata": {},
   "outputs": [],
   "source": [
    "\n"
   ]
  },
  {
   "cell_type": "code",
   "execution_count": null,
   "metadata": {},
   "outputs": [],
   "source": []
  },
  {
   "cell_type": "code",
   "execution_count": null,
   "metadata": {},
   "outputs": [],
   "source": []
  },
  {
   "cell_type": "code",
   "execution_count": 122,
   "metadata": {},
   "outputs": [],
   "source": []
  },
  {
   "cell_type": "code",
   "execution_count": null,
   "metadata": {},
   "outputs": [],
   "source": []
  },
  {
   "cell_type": "markdown",
   "metadata": {},
   "source": [
    "## Imagined final format"
   ]
  },
  {
   "cell_type": "code",
   "execution_count": 2,
   "metadata": {},
   "outputs": [
    {
     "ename": "IndentationError",
     "evalue": "unexpected indent (<ipython-input-2-7453e4906352>, line 7)",
     "output_type": "error",
     "traceback": [
      "\u001b[0;36m  File \u001b[0;32m\"<ipython-input-2-7453e4906352>\"\u001b[0;36m, line \u001b[0;32m7\u001b[0m\n\u001b[0;31m    \"wiki_scrape_date\" : today,\u001b[0m\n\u001b[0m    ^\u001b[0m\n\u001b[0;31mIndentationError\u001b[0m\u001b[0;31m:\u001b[0m unexpected indent\n"
     ]
    }
   ],
   "source": [
    "entry = {\"names\" : {\"english\" : [eng1, eng2, eng3],\n",
    "                    \"arabic\" : [ar1, ar2],\n",
    "                     \"spanish\" : [spa1, spa2],\n",
    "                    \"german\" : [deu1]\n",
    "                   }\n",
    "        },\n",
    "        \"wiki_scrape_date\" : today,\n",
    "        \"wikidata\" : \"Q10835103\",\n",
    "        \"instance_of\" : \"person\", # orgs and people look different\n",
    "        \"wikipedia\" : {\"english\" : \"/name_lastname\",\n",
    "                       \"arabic\" : \"/name_lastname\"},\n",
    "         \"harvested_from\" : \"http://wikipedia/category_list\" # directory page we got the link from\n",
    "         \"wiki_categories\" : {\"english\" : [\"Living_Ministers\", \"Ministers_of_Somalia\"],\n",
    "                              \"arabic\" : []},\n",
    "         \"wiki_roles\" : {\"english\" : [{\"role\" : \"Minister of Irrigation\",\n",
    "                                      \"start_date\" : \"2014-02-01\",\n",
    "                                      \"end_date\" : \"\"},\n",
    "                                     ],\n",
    "                         \"arabic\" : [{\"role\" : \" وزارة الري\",\n",
    "                                      \"start_date\" : \"2014-02-01\",\n",
    "                                      \"end_date\" : \"\"}]\n",
    "                        },\n",
    "         \"cameo_coding\" : [{\"role\" : \"SOMGOV\", \n",
    "                            \"start_date\" : \"20140201\", \n",
    "                            \"end_date\" : \"\",\n",
    "                            \"added_by\" : \"andy\",\n",
    "                            \"added_date\" : \"2017-11-16\"},\n",
    "                          ]\n",
    "        }"
   ]
  },
  {
   "cell_type": "code",
   "execution_count": 31,
   "metadata": {
    "collapsed": true
   },
   "outputs": [],
   "source": [
    "# have different structures for people and organizations?\n",
    "# With organizations, can skip \"roles\" and can add \"commanders\" or \"members\"\n",
    "# Do we need to link the hand added CAMEO codings and the wiki roles?"
   ]
  },
  {
   "cell_type": "code",
   "execution_count": null,
   "metadata": {
    "collapsed": true
   },
   "outputs": [],
   "source": []
  }
 ],
 "metadata": {
  "kernelspec": {
   "display_name": "Python 3",
   "language": "python",
   "name": "python3"
  },
  "language_info": {
   "codemirror_mode": {
    "name": "ipython",
    "version": 3
   },
   "file_extension": ".py",
   "mimetype": "text/x-python",
   "name": "python",
   "nbconvert_exporter": "python",
   "pygments_lexer": "ipython3",
   "version": "3.6.4"
  }
 },
 "nbformat": 4,
 "nbformat_minor": 2
}
