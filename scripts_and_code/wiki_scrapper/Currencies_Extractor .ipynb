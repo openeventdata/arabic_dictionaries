{
 "cells": [
  {
   "cell_type": "code",
   "execution_count": 11,
   "metadata": {},
   "outputs": [],
   "source": [
    "import pandas as pd\n",
    "import re\n",
    "data = pd.read_html('https://ar.wikipedia.org/wiki/%D9%82%D8%A7%D8%A6%D9%85%D8%A9_%D8%A7%D9%84%D8%B9%D9%85%D9%84%D8%A7%D8%AA_%D8%A7%D9%84%D9%85%D8%AA%D8%AF%D8%A7%D9%88%D9%84%D8%A9')"
   ]
  },
  {
   "cell_type": "code",
   "execution_count": 15,
   "metadata": {},
   "outputs": [
    {
     "data": {
      "text/plain": [
       "1                         لاري جورجي\n",
       "2                                 р.\n",
       "3                             أفغاني\n",
       "4                               يورو\n",
       "5                         ليك ألباني\n",
       "6                  Alderney pound[A]\n",
       "7                                  £\n",
       "8                                  £\n",
       "9                       دينار جزائري\n",
       "10                              يورو\n",
       "11                     كوانزا أنغولي\n",
       "12                دولار شرق الكاريبي\n",
       "13                دولار شرق الكاريبي\n",
       "14                     بيزو أرجنتيني\n",
       "15                       درام أرميني\n",
       "16                       فلورن أروبي\n",
       "17                Ascension pound[A]\n",
       "18                                 £\n",
       "19                    دولار أسترالي‌\n",
       "20                              يورو\n",
       "21                             مانات\n",
       "22                       دولار بهامي\n",
       "23                      دينار بحريني\n",
       "24                    تاكا بنغلاديشي\n",
       "25                    دولار بربادوسي\n",
       "26                      روبل بلاروسي\n",
       "27                              يورو\n",
       "28                      دولار البليز\n",
       "29            فرنك س ف ا غرب أفريقيا\n",
       "30                      دولار برمودي\n",
       "                   ...              \n",
       "239                     بات تايلاندي\n",
       "240           فرنك س ف ا غرب أفريقيا\n",
       "241                      بانغا تونغي\n",
       "242                 روبل ترانسنيستري\n",
       "243           دولار ترينيداد وتوباغو\n",
       "244                 جنيه سانت هيليني\n",
       "245                                £\n",
       "246                      دينار تونسي\n",
       "247                       ليرة تركية\n",
       "248                 منات تركمانستاني\n",
       "249                     دولار أمريكي\n",
       "250                    دولار أسترالي\n",
       "251                                $\n",
       "252                    شيلينغ أوغندي\n",
       "253                           هريفنا\n",
       "254                     درهم إماراتي\n",
       "255                 جنيه إسترليني[C]\n",
       "256                     دولار أمريكي\n",
       "257                     بيزو أورغواي\n",
       "258                              سوم\n",
       "259                             فاتو\n",
       "260                             يورو\n",
       "261                  بوليفار فنزويلي\n",
       "262                             دونغ\n",
       "263                       فرنك س ف ب\n",
       "264                       درهم مغربي\n",
       "265                        ريال يمني\n",
       "266                            كواشا\n",
       "267                   دولار زيمبابوي\n",
       "268    دولار القارة القطبية الجنوبية\n",
       "Name: 1, Length: 268, dtype: object"
      ]
     },
     "execution_count": 15,
     "metadata": {},
     "output_type": "execute_result"
    }
   ],
   "source": [
    "currencies = data[1][1][1:]\n",
    "currencies"
   ]
  },
  {
   "cell_type": "code",
   "execution_count": 82,
   "metadata": {},
   "outputs": [],
   "source": [
    "#Cleaning data\n",
    "currencies_clean= [ re.sub(r'[^ \\u0600-\\u06FF]', '',currency) for currency in currencies if re.sub(r'[^ \\u0600-\\u06FF]', '',currency).strip() != '' ]"
   ]
  },
  {
   "cell_type": "code",
   "execution_count": 83,
   "metadata": {},
   "outputs": [],
   "source": [
    "# currencies_clean"
   ]
  },
  {
   "cell_type": "code",
   "execution_count": 90,
   "metadata": {},
   "outputs": [],
   "source": [
    "#Write Currencies to file \n",
    "manual_proces =[] #text fields that need futher processing\n",
    "curren_set = set() # using a set to remove duplicates\n",
    "for curr in currencies_clean : \n",
    "    datum = curr.split(' ')\n",
    "    if len(datum) > 2 : #Needs to be handled manually\n",
    "        manual_proces.append(curr)\n",
    "    else : \n",
    "        if len(datum) == 1:\n",
    "            curren_set.add('+{}_'.format(datum[0]))\n",
    "        else : \n",
    "            curren_set.add('+{}_'.format(datum[0]))\n",
    "            curren_set.add('+{}_{}_'.format(datum[0], datum[1]))\n",
    "            \n",
    "curren_set\n",
    "currencies_file = open('currencies.txt' , 'w')\n",
    "currencies_file.write('\\n'.join(curren_set))\n",
    "currencies_file.close()"
   ]
  },
  {
   "cell_type": "code",
   "execution_count": 89,
   "metadata": {},
   "outputs": [
    {
     "data": {
      "text/plain": [
       "['+دولار_شرق_الكاريبي_',\n",
       " '+دولار_شرق_الكاريبي_',\n",
       " '+فرنك_س_ف_ا_غرب_أفريقيا_',\n",
       " '+فرنك_س_ف_ا_غرب_أفريقيا_',\n",
       " '+فرنك_س_ف_ا_وسط_أفريقيا_',\n",
       " '+دولار_جزر_كايمان_',\n",
       " '+فرنك_س_ف_ا_وسط_أفريقيا_',\n",
       " '+فرنك_س_ف_ا_وسط_أفريقيا_',\n",
       " '+فرنك_س_ف_ا_وسط_أفريقيا_',\n",
       " '+فرنك_س_ف_ا_غرب_أفريقيا_',\n",
       " '+بيزو_كوبي_قابل_للتحويل_',\n",
       " '+دولار_شرق_الكاريبي_',\n",
       " '+فرنك_س_ف_ا_وسط_أفريقيا_',\n",
       " '+جنيه_جزر_فوكلاند_',\n",
       " '+فرنك_س_ف_ب_',\n",
       " '+فرنك_س_ف_ا_وسط_أفريقيا_',\n",
       " '+جنيه_جبل_طارق_',\n",
       " '+دولار_شرق_الكاريبي_',\n",
       " '+فرنك_س_ف_ا_غرب_أفريقيا_',\n",
       " '+دولار_هونغ_كونغ_',\n",
       " '+شيكل_إسرائيلي_جديد_',\n",
       " '+وون_كوري_شمالي_',\n",
       " '+وون_كوري_جنوبي_',\n",
       " '+قائمة_العملات_المعدنية_للفرنك_السويسري_',\n",
       " '+فرنك_س_ف_ا_غرب_أفريقيا_',\n",
       " '+دولار_شرق_الكاريبي_',\n",
       " '+غويلدر_الأنتيل_الهولندية_',\n",
       " '+فرنك_س_ف_ب_',\n",
       " '+فرنك_س_ف_ا_غرب_أفريقيا_',\n",
       " '+كينا_بابوا_غينيا_الجديدة_',\n",
       " '+سول_بيروفي_جديد_',\n",
       " '+جنيه_سانت_هيليني_',\n",
       " '+دولار_شرق_الكاريبي_',\n",
       " '+دولار_شرق_الكاريبي_',\n",
       " '+دولار_شرق_الكاريبي_',\n",
       " '+دوبرا_ساو_توميه_وبرينسيب_',\n",
       " '+فرنك_س_ف_ا_غرب_أفريقيا_',\n",
       " '+دولار_جزر_سليمان_',\n",
       " '+راند_جنوب_أفريقي_',\n",
       " '+دولار_تايواني_جديد_',\n",
       " '+فرنك_س_ف_ا_غرب_أفريقيا_',\n",
       " '+دولار_ترينيداد_وتوباغو_',\n",
       " '+جنيه_سانت_هيليني_',\n",
       " '+فرنك_س_ف_ب_',\n",
       " '+دولار_القارة_القطبية_الجنوبية_']"
      ]
     },
     "execution_count": 89,
     "metadata": {},
     "output_type": "execute_result"
    }
   ],
   "source": [
    "manual_proces\n",
    "more_curren = ['+{}_'.format(item.replace(' ', '_')) for item in manual_proces]\n",
    "more_curren"
   ]
  },
  {
   "cell_type": "code",
   "execution_count": null,
   "metadata": {},
   "outputs": [],
   "source": []
  }
 ],
 "metadata": {
  "kernelspec": {
   "display_name": "Python 3",
   "language": "python",
   "name": "python3"
  },
  "language_info": {
   "codemirror_mode": {
    "name": "ipython",
    "version": 3
   },
   "file_extension": ".py",
   "mimetype": "text/x-python",
   "name": "python",
   "nbconvert_exporter": "python",
   "pygments_lexer": "ipython3",
   "version": "3.6.1"
  }
 },
 "nbformat": 4,
 "nbformat_minor": 2
}
